{
 "cells": [
  {
   "cell_type": "markdown",
   "metadata": {},
   "source": [
    "# Starbucks Capstone Challenge"
   ]
  },
  {
   "cell_type": "code",
   "execution_count": 94,
   "metadata": {},
   "outputs": [],
   "source": [
    "import pandas as pd\n",
    "import numpy as np\n",
    "import math\n",
    "import json\n",
    "import matplotlib.pyplot as plt\n",
    "import datetime\n",
    "import seaborn as sns\n",
    "from sklearn import preprocessing\n",
    "from sklearn.model_selection import train_test_split\n",
    "from sklearn.metrics import accuracy_score, f1_score, classification_report, confusion_matrix\n",
    "from sklearn.tree import DecisionTreeClassifier\n",
    "from sklearn.ensemble import RandomForestClassifier, GradientBoostingClassifier\n",
    "from sklearn.svm import SVC\n",
    "from sklearn.model_selection import GridSearchCV\n",
    "import re\n",
    "import warnings; warnings.simplefilter('ignore')\n",
    "%matplotlib inline"
   ]
  },
  {
   "cell_type": "code",
   "execution_count": 2,
   "metadata": {},
   "outputs": [],
   "source": [
    "# read in the json files\n",
    "portfolio = pd.read_json('data/portfolio.json', orient='records', lines=True)\n",
    "profile = pd.read_json('data/profile.json', orient='records', lines=True)\n",
    "transcript = pd.read_json('data/transcript.json', orient='records', lines=True)"
   ]
  },
  {
   "cell_type": "code",
   "execution_count": 3,
   "metadata": {},
   "outputs": [
    {
     "data": {
      "text/html": [
       "<div>\n",
       "<style scoped>\n",
       "    .dataframe tbody tr th:only-of-type {\n",
       "        vertical-align: middle;\n",
       "    }\n",
       "\n",
       "    .dataframe tbody tr th {\n",
       "        vertical-align: top;\n",
       "    }\n",
       "\n",
       "    .dataframe thead th {\n",
       "        text-align: right;\n",
       "    }\n",
       "</style>\n",
       "<table border=\"1\" class=\"dataframe\">\n",
       "  <thead>\n",
       "    <tr style=\"text-align: right;\">\n",
       "      <th></th>\n",
       "      <th>reward</th>\n",
       "      <th>channels</th>\n",
       "      <th>difficulty</th>\n",
       "      <th>duration</th>\n",
       "      <th>offer_type</th>\n",
       "      <th>id</th>\n",
       "    </tr>\n",
       "  </thead>\n",
       "  <tbody>\n",
       "    <tr>\n",
       "      <th>0</th>\n",
       "      <td>10</td>\n",
       "      <td>[email, mobile, social]</td>\n",
       "      <td>10</td>\n",
       "      <td>7</td>\n",
       "      <td>bogo</td>\n",
       "      <td>ae264e3637204a6fb9bb56bc8210ddfd</td>\n",
       "    </tr>\n",
       "    <tr>\n",
       "      <th>1</th>\n",
       "      <td>10</td>\n",
       "      <td>[web, email, mobile, social]</td>\n",
       "      <td>10</td>\n",
       "      <td>5</td>\n",
       "      <td>bogo</td>\n",
       "      <td>4d5c57ea9a6940dd891ad53e9dbe8da0</td>\n",
       "    </tr>\n",
       "    <tr>\n",
       "      <th>2</th>\n",
       "      <td>0</td>\n",
       "      <td>[web, email, mobile]</td>\n",
       "      <td>0</td>\n",
       "      <td>4</td>\n",
       "      <td>informational</td>\n",
       "      <td>3f207df678b143eea3cee63160fa8bed</td>\n",
       "    </tr>\n",
       "    <tr>\n",
       "      <th>3</th>\n",
       "      <td>5</td>\n",
       "      <td>[web, email, mobile]</td>\n",
       "      <td>5</td>\n",
       "      <td>7</td>\n",
       "      <td>bogo</td>\n",
       "      <td>9b98b8c7a33c4b65b9aebfe6a799e6d9</td>\n",
       "    </tr>\n",
       "    <tr>\n",
       "      <th>4</th>\n",
       "      <td>5</td>\n",
       "      <td>[web, email]</td>\n",
       "      <td>20</td>\n",
       "      <td>10</td>\n",
       "      <td>discount</td>\n",
       "      <td>0b1e1539f2cc45b7b9fa7c272da2e1d7</td>\n",
       "    </tr>\n",
       "  </tbody>\n",
       "</table>\n",
       "</div>"
      ],
      "text/plain": [
       "   reward                      channels  difficulty  duration     offer_type  \\\n",
       "0      10       [email, mobile, social]          10         7           bogo   \n",
       "1      10  [web, email, mobile, social]          10         5           bogo   \n",
       "2       0          [web, email, mobile]           0         4  informational   \n",
       "3       5          [web, email, mobile]           5         7           bogo   \n",
       "4       5                  [web, email]          20        10       discount   \n",
       "\n",
       "                                 id  \n",
       "0  ae264e3637204a6fb9bb56bc8210ddfd  \n",
       "1  4d5c57ea9a6940dd891ad53e9dbe8da0  \n",
       "2  3f207df678b143eea3cee63160fa8bed  \n",
       "3  9b98b8c7a33c4b65b9aebfe6a799e6d9  \n",
       "4  0b1e1539f2cc45b7b9fa7c272da2e1d7  "
      ]
     },
     "execution_count": 3,
     "metadata": {},
     "output_type": "execute_result"
    }
   ],
   "source": [
    "portfolio.head()"
   ]
  },
  {
   "cell_type": "code",
   "execution_count": 4,
   "metadata": {},
   "outputs": [
    {
     "data": {
      "text/html": [
       "<div>\n",
       "<style scoped>\n",
       "    .dataframe tbody tr th:only-of-type {\n",
       "        vertical-align: middle;\n",
       "    }\n",
       "\n",
       "    .dataframe tbody tr th {\n",
       "        vertical-align: top;\n",
       "    }\n",
       "\n",
       "    .dataframe thead th {\n",
       "        text-align: right;\n",
       "    }\n",
       "</style>\n",
       "<table border=\"1\" class=\"dataframe\">\n",
       "  <thead>\n",
       "    <tr style=\"text-align: right;\">\n",
       "      <th></th>\n",
       "      <th>gender</th>\n",
       "      <th>age</th>\n",
       "      <th>id</th>\n",
       "      <th>became_member_on</th>\n",
       "      <th>income</th>\n",
       "    </tr>\n",
       "  </thead>\n",
       "  <tbody>\n",
       "    <tr>\n",
       "      <th>0</th>\n",
       "      <td>None</td>\n",
       "      <td>118</td>\n",
       "      <td>68be06ca386d4c31939f3a4f0e3dd783</td>\n",
       "      <td>20170212</td>\n",
       "      <td>NaN</td>\n",
       "    </tr>\n",
       "    <tr>\n",
       "      <th>1</th>\n",
       "      <td>F</td>\n",
       "      <td>55</td>\n",
       "      <td>0610b486422d4921ae7d2bf64640c50b</td>\n",
       "      <td>20170715</td>\n",
       "      <td>112000.0</td>\n",
       "    </tr>\n",
       "    <tr>\n",
       "      <th>2</th>\n",
       "      <td>None</td>\n",
       "      <td>118</td>\n",
       "      <td>38fe809add3b4fcf9315a9694bb96ff5</td>\n",
       "      <td>20180712</td>\n",
       "      <td>NaN</td>\n",
       "    </tr>\n",
       "    <tr>\n",
       "      <th>3</th>\n",
       "      <td>F</td>\n",
       "      <td>75</td>\n",
       "      <td>78afa995795e4d85b5d9ceeca43f5fef</td>\n",
       "      <td>20170509</td>\n",
       "      <td>100000.0</td>\n",
       "    </tr>\n",
       "    <tr>\n",
       "      <th>4</th>\n",
       "      <td>None</td>\n",
       "      <td>118</td>\n",
       "      <td>a03223e636434f42ac4c3df47e8bac43</td>\n",
       "      <td>20170804</td>\n",
       "      <td>NaN</td>\n",
       "    </tr>\n",
       "  </tbody>\n",
       "</table>\n",
       "</div>"
      ],
      "text/plain": [
       "  gender  age                                id  became_member_on    income\n",
       "0   None  118  68be06ca386d4c31939f3a4f0e3dd783          20170212       NaN\n",
       "1      F   55  0610b486422d4921ae7d2bf64640c50b          20170715  112000.0\n",
       "2   None  118  38fe809add3b4fcf9315a9694bb96ff5          20180712       NaN\n",
       "3      F   75  78afa995795e4d85b5d9ceeca43f5fef          20170509  100000.0\n",
       "4   None  118  a03223e636434f42ac4c3df47e8bac43          20170804       NaN"
      ]
     },
     "execution_count": 4,
     "metadata": {},
     "output_type": "execute_result"
    }
   ],
   "source": [
    "profile.head()"
   ]
  },
  {
   "cell_type": "code",
   "execution_count": 5,
   "metadata": {},
   "outputs": [
    {
     "data": {
      "text/html": [
       "<div>\n",
       "<style scoped>\n",
       "    .dataframe tbody tr th:only-of-type {\n",
       "        vertical-align: middle;\n",
       "    }\n",
       "\n",
       "    .dataframe tbody tr th {\n",
       "        vertical-align: top;\n",
       "    }\n",
       "\n",
       "    .dataframe thead th {\n",
       "        text-align: right;\n",
       "    }\n",
       "</style>\n",
       "<table border=\"1\" class=\"dataframe\">\n",
       "  <thead>\n",
       "    <tr style=\"text-align: right;\">\n",
       "      <th></th>\n",
       "      <th>person</th>\n",
       "      <th>event</th>\n",
       "      <th>value</th>\n",
       "      <th>time</th>\n",
       "    </tr>\n",
       "  </thead>\n",
       "  <tbody>\n",
       "    <tr>\n",
       "      <th>0</th>\n",
       "      <td>78afa995795e4d85b5d9ceeca43f5fef</td>\n",
       "      <td>offer received</td>\n",
       "      <td>{'offer id': '9b98b8c7a33c4b65b9aebfe6a799e6d9'}</td>\n",
       "      <td>0</td>\n",
       "    </tr>\n",
       "    <tr>\n",
       "      <th>1</th>\n",
       "      <td>a03223e636434f42ac4c3df47e8bac43</td>\n",
       "      <td>offer received</td>\n",
       "      <td>{'offer id': '0b1e1539f2cc45b7b9fa7c272da2e1d7'}</td>\n",
       "      <td>0</td>\n",
       "    </tr>\n",
       "    <tr>\n",
       "      <th>2</th>\n",
       "      <td>e2127556f4f64592b11af22de27a7932</td>\n",
       "      <td>offer received</td>\n",
       "      <td>{'offer id': '2906b810c7d4411798c6938adc9daaa5'}</td>\n",
       "      <td>0</td>\n",
       "    </tr>\n",
       "    <tr>\n",
       "      <th>3</th>\n",
       "      <td>8ec6ce2a7e7949b1bf142def7d0e0586</td>\n",
       "      <td>offer received</td>\n",
       "      <td>{'offer id': 'fafdcd668e3743c1bb461111dcafc2a4'}</td>\n",
       "      <td>0</td>\n",
       "    </tr>\n",
       "    <tr>\n",
       "      <th>4</th>\n",
       "      <td>68617ca6246f4fbc85e91a2a49552598</td>\n",
       "      <td>offer received</td>\n",
       "      <td>{'offer id': '4d5c57ea9a6940dd891ad53e9dbe8da0'}</td>\n",
       "      <td>0</td>\n",
       "    </tr>\n",
       "  </tbody>\n",
       "</table>\n",
       "</div>"
      ],
      "text/plain": [
       "                             person           event  \\\n",
       "0  78afa995795e4d85b5d9ceeca43f5fef  offer received   \n",
       "1  a03223e636434f42ac4c3df47e8bac43  offer received   \n",
       "2  e2127556f4f64592b11af22de27a7932  offer received   \n",
       "3  8ec6ce2a7e7949b1bf142def7d0e0586  offer received   \n",
       "4  68617ca6246f4fbc85e91a2a49552598  offer received   \n",
       "\n",
       "                                              value  time  \n",
       "0  {'offer id': '9b98b8c7a33c4b65b9aebfe6a799e6d9'}     0  \n",
       "1  {'offer id': '0b1e1539f2cc45b7b9fa7c272da2e1d7'}     0  \n",
       "2  {'offer id': '2906b810c7d4411798c6938adc9daaa5'}     0  \n",
       "3  {'offer id': 'fafdcd668e3743c1bb461111dcafc2a4'}     0  \n",
       "4  {'offer id': '4d5c57ea9a6940dd891ad53e9dbe8da0'}     0  "
      ]
     },
     "execution_count": 5,
     "metadata": {},
     "output_type": "execute_result"
    }
   ],
   "source": [
    "transcript.head()"
   ]
  },
  {
   "cell_type": "code",
   "execution_count": 6,
   "metadata": {},
   "outputs": [
    {
     "data": {
      "text/plain": [
       "((10, 6), (17000, 5), (306534, 4))"
      ]
     },
     "execution_count": 6,
     "metadata": {},
     "output_type": "execute_result"
    }
   ],
   "source": [
    "portfolio.shape, profile.shape, transcript.shape"
   ]
  },
  {
   "cell_type": "markdown",
   "metadata": {},
   "source": [
    "## Data Exploration\n",
    "\n",
    "Before performing any preprocessing for the above 3 datasets, we need to get a good understanding as to how the data looks like. Thus, I'm performing few data exploration steps.\n",
    "\n",
    "### 1. Portfolio Data"
   ]
  },
  {
   "cell_type": "code",
   "execution_count": 7,
   "metadata": {},
   "outputs": [
    {
     "data": {
      "text/plain": [
       "reward        0\n",
       "channels      0\n",
       "difficulty    0\n",
       "duration      0\n",
       "offer_type    0\n",
       "id            0\n",
       "dtype: int64"
      ]
     },
     "execution_count": 7,
     "metadata": {},
     "output_type": "execute_result"
    }
   ],
   "source": [
    "# Check whether portfolio dataset contains any missing values\n",
    "portfolio.isnull().sum(axis=0)"
   ]
  },
  {
   "cell_type": "code",
   "execution_count": 8,
   "metadata": {},
   "outputs": [
    {
     "data": {
      "text/plain": [
       "bogo             4\n",
       "discount         4\n",
       "informational    2\n",
       "Name: offer_type, dtype: int64"
      ]
     },
     "execution_count": 8,
     "metadata": {},
     "output_type": "execute_result"
    }
   ],
   "source": [
    "# Available offer types\n",
    "portfolio.offer_type.value_counts()"
   ]
  },
  {
   "cell_type": "code",
   "execution_count": 9,
   "metadata": {},
   "outputs": [
    {
     "data": {
      "text/plain": [
       "['email', 'mobile', 'social', 'web']"
      ]
     },
     "execution_count": 9,
     "metadata": {},
     "output_type": "execute_result"
    }
   ],
   "source": [
    "# All available channels\n",
    "avail_channels = []\n",
    "\n",
    "for channels in portfolio['channels']:\n",
    "    for channel in channels:\n",
    "        if channel not in avail_channels:\n",
    "            avail_channels.append(channel)\n",
    "\n",
    "avail_channels"
   ]
  },
  {
   "cell_type": "code",
   "execution_count": 10,
   "metadata": {},
   "outputs": [
    {
     "data": {
      "text/plain": [
       "True"
      ]
     },
     "execution_count": 10,
     "metadata": {},
     "output_type": "execute_result"
    }
   ],
   "source": [
    "# check whether all offer data is unique\n",
    "len(np.unique(portfolio['id'])) == portfolio.shape[0]"
   ]
  },
  {
   "cell_type": "markdown",
   "metadata": {},
   "source": [
    "### 2. Profile Data"
   ]
  },
  {
   "cell_type": "code",
   "execution_count": 11,
   "metadata": {},
   "outputs": [
    {
     "data": {
      "text/plain": [
       "gender              2175\n",
       "age                    0\n",
       "id                     0\n",
       "became_member_on       0\n",
       "income              2175\n",
       "dtype: int64"
      ]
     },
     "execution_count": 11,
     "metadata": {},
     "output_type": "execute_result"
    }
   ],
   "source": [
    "# Check whether profile dataset contains any missing values\n",
    "profile.isnull().sum(axis=0)"
   ]
  },
  {
   "cell_type": "code",
   "execution_count": 12,
   "metadata": {},
   "outputs": [
    {
     "data": {
      "text/plain": [
       "count    17000.000000\n",
       "mean        62.531412\n",
       "std         26.738580\n",
       "min         18.000000\n",
       "25%         45.000000\n",
       "50%         58.000000\n",
       "75%         73.000000\n",
       "max        118.000000\n",
       "Name: age, dtype: float64"
      ]
     },
     "execution_count": 12,
     "metadata": {},
     "output_type": "execute_result"
    }
   ],
   "source": [
    "#explore some statistics about the age column\n",
    "profile['age'].describe()"
   ]
  },
  {
   "cell_type": "code",
   "execution_count": 13,
   "metadata": {},
   "outputs": [
    {
     "data": {
      "text/plain": [
       "M    8484\n",
       "F    6129\n",
       "O     212\n",
       "Name: gender, dtype: int64"
      ]
     },
     "execution_count": 13,
     "metadata": {},
     "output_type": "execute_result"
    }
   ],
   "source": [
    "# Different values in gender column\n",
    "profile['gender'].value_counts()"
   ]
  },
  {
   "cell_type": "code",
   "execution_count": 14,
   "metadata": {},
   "outputs": [
    {
     "data": {
      "text/html": [
       "<div>\n",
       "<style scoped>\n",
       "    .dataframe tbody tr th:only-of-type {\n",
       "        vertical-align: middle;\n",
       "    }\n",
       "\n",
       "    .dataframe tbody tr th {\n",
       "        vertical-align: top;\n",
       "    }\n",
       "\n",
       "    .dataframe thead th {\n",
       "        text-align: right;\n",
       "    }\n",
       "</style>\n",
       "<table border=\"1\" class=\"dataframe\">\n",
       "  <thead>\n",
       "    <tr style=\"text-align: right;\">\n",
       "      <th></th>\n",
       "      <th>gender</th>\n",
       "      <th>age</th>\n",
       "      <th>id</th>\n",
       "      <th>became_member_on</th>\n",
       "      <th>income</th>\n",
       "    </tr>\n",
       "  </thead>\n",
       "  <tbody>\n",
       "    <tr>\n",
       "      <th>0</th>\n",
       "      <td>None</td>\n",
       "      <td>118</td>\n",
       "      <td>68be06ca386d4c31939f3a4f0e3dd783</td>\n",
       "      <td>20170212</td>\n",
       "      <td>NaN</td>\n",
       "    </tr>\n",
       "    <tr>\n",
       "      <th>2</th>\n",
       "      <td>None</td>\n",
       "      <td>118</td>\n",
       "      <td>38fe809add3b4fcf9315a9694bb96ff5</td>\n",
       "      <td>20180712</td>\n",
       "      <td>NaN</td>\n",
       "    </tr>\n",
       "    <tr>\n",
       "      <th>4</th>\n",
       "      <td>None</td>\n",
       "      <td>118</td>\n",
       "      <td>a03223e636434f42ac4c3df47e8bac43</td>\n",
       "      <td>20170804</td>\n",
       "      <td>NaN</td>\n",
       "    </tr>\n",
       "    <tr>\n",
       "      <th>6</th>\n",
       "      <td>None</td>\n",
       "      <td>118</td>\n",
       "      <td>8ec6ce2a7e7949b1bf142def7d0e0586</td>\n",
       "      <td>20170925</td>\n",
       "      <td>NaN</td>\n",
       "    </tr>\n",
       "    <tr>\n",
       "      <th>7</th>\n",
       "      <td>None</td>\n",
       "      <td>118</td>\n",
       "      <td>68617ca6246f4fbc85e91a2a49552598</td>\n",
       "      <td>20171002</td>\n",
       "      <td>NaN</td>\n",
       "    </tr>\n",
       "    <tr>\n",
       "      <th>...</th>\n",
       "      <td>...</td>\n",
       "      <td>...</td>\n",
       "      <td>...</td>\n",
       "      <td>...</td>\n",
       "      <td>...</td>\n",
       "    </tr>\n",
       "    <tr>\n",
       "      <th>16980</th>\n",
       "      <td>None</td>\n",
       "      <td>118</td>\n",
       "      <td>5c686d09ca4d475a8f750f2ba07e0440</td>\n",
       "      <td>20160901</td>\n",
       "      <td>NaN</td>\n",
       "    </tr>\n",
       "    <tr>\n",
       "      <th>16982</th>\n",
       "      <td>None</td>\n",
       "      <td>118</td>\n",
       "      <td>d9ca82f550ac4ee58b6299cf1e5c824a</td>\n",
       "      <td>20160415</td>\n",
       "      <td>NaN</td>\n",
       "    </tr>\n",
       "    <tr>\n",
       "      <th>16989</th>\n",
       "      <td>None</td>\n",
       "      <td>118</td>\n",
       "      <td>ca45ee1883624304bac1e4c8a114f045</td>\n",
       "      <td>20180305</td>\n",
       "      <td>NaN</td>\n",
       "    </tr>\n",
       "    <tr>\n",
       "      <th>16991</th>\n",
       "      <td>None</td>\n",
       "      <td>118</td>\n",
       "      <td>a9a20fa8b5504360beb4e7c8712f8306</td>\n",
       "      <td>20160116</td>\n",
       "      <td>NaN</td>\n",
       "    </tr>\n",
       "    <tr>\n",
       "      <th>16994</th>\n",
       "      <td>None</td>\n",
       "      <td>118</td>\n",
       "      <td>c02b10e8752c4d8e9b73f918558531f7</td>\n",
       "      <td>20151211</td>\n",
       "      <td>NaN</td>\n",
       "    </tr>\n",
       "  </tbody>\n",
       "</table>\n",
       "<p>2175 rows × 5 columns</p>\n",
       "</div>"
      ],
      "text/plain": [
       "      gender  age                                id  became_member_on  income\n",
       "0       None  118  68be06ca386d4c31939f3a4f0e3dd783          20170212     NaN\n",
       "2       None  118  38fe809add3b4fcf9315a9694bb96ff5          20180712     NaN\n",
       "4       None  118  a03223e636434f42ac4c3df47e8bac43          20170804     NaN\n",
       "6       None  118  8ec6ce2a7e7949b1bf142def7d0e0586          20170925     NaN\n",
       "7       None  118  68617ca6246f4fbc85e91a2a49552598          20171002     NaN\n",
       "...      ...  ...                               ...               ...     ...\n",
       "16980   None  118  5c686d09ca4d475a8f750f2ba07e0440          20160901     NaN\n",
       "16982   None  118  d9ca82f550ac4ee58b6299cf1e5c824a          20160415     NaN\n",
       "16989   None  118  ca45ee1883624304bac1e4c8a114f045          20180305     NaN\n",
       "16991   None  118  a9a20fa8b5504360beb4e7c8712f8306          20160116     NaN\n",
       "16994   None  118  c02b10e8752c4d8e9b73f918558531f7          20151211     NaN\n",
       "\n",
       "[2175 rows x 5 columns]"
      ]
     },
     "execution_count": 14,
     "metadata": {},
     "output_type": "execute_result"
    }
   ],
   "source": [
    "# Checkout NaN values available in income column\n",
    "profile[profile['income'].isnull()]"
   ]
  },
  {
   "cell_type": "code",
   "execution_count": 15,
   "metadata": {
    "scrolled": true
   },
   "outputs": [
    {
     "data": {
      "text/plain": [
       "118    2175\n",
       "Name: age, dtype: int64"
      ]
     },
     "execution_count": 15,
     "metadata": {},
     "output_type": "execute_result"
    }
   ],
   "source": [
    "profile[profile['income'].isnull()].age.value_counts()"
   ]
  },
  {
   "cell_type": "markdown",
   "metadata": {},
   "source": [
    "According to the above cell, all the profiles with NaNs for income are having 118 for age. Thus, it seems that these 2175 rows in profile dataset contains invalid data. And I prefer to clean up all these invalid data during the preprocessing step."
   ]
  },
  {
   "cell_type": "code",
   "execution_count": 16,
   "metadata": {},
   "outputs": [
    {
     "data": {
      "text/plain": [
       "gender               object\n",
       "age                   int64\n",
       "id                   object\n",
       "became_member_on      int64\n",
       "income              float64\n",
       "dtype: object"
      ]
     },
     "execution_count": 16,
     "metadata": {},
     "output_type": "execute_result"
    }
   ],
   "source": [
    "profile.dtypes"
   ]
  },
  {
   "cell_type": "markdown",
   "metadata": {},
   "source": [
    "### 3. Transcript Data"
   ]
  },
  {
   "cell_type": "code",
   "execution_count": 17,
   "metadata": {},
   "outputs": [
    {
     "data": {
      "text/plain": [
       "person    0\n",
       "event     0\n",
       "value     0\n",
       "time      0\n",
       "dtype: int64"
      ]
     },
     "execution_count": 17,
     "metadata": {},
     "output_type": "execute_result"
    }
   ],
   "source": [
    "# Check whether transcript dataset contains any missing values\n",
    "transcript.isnull().sum(axis=0)"
   ]
  },
  {
   "cell_type": "code",
   "execution_count": 18,
   "metadata": {},
   "outputs": [
    {
     "data": {
      "text/plain": [
       "transaction        138953\n",
       "offer received      76277\n",
       "offer viewed        57725\n",
       "offer completed     33579\n",
       "Name: event, dtype: int64"
      ]
     },
     "execution_count": 18,
     "metadata": {},
     "output_type": "execute_result"
    }
   ],
   "source": [
    "# Different event types available\n",
    "transcript['event'].value_counts()"
   ]
  },
  {
   "cell_type": "markdown",
   "metadata": {},
   "source": [
    "## Data Preprocessing\n",
    "\n",
    "According to the previous Data Exploration step, it is clear that some data preprocessing has to be performed in all 3 datasets, in order to proceed with next steps in this task. Thus, below are the changes done to each of the datasets."
   ]
  },
  {
   "cell_type": "markdown",
   "metadata": {},
   "source": [
    "### 1. Portfolio Data\n",
    "\n",
    "1. One hot encode channels\n",
    "2. One hot encode offer_type\n",
    "3. Convert duration (which is in days to hours)\n",
    "4. Replace channels and offer-type columns with one hot encoded columns\n",
    "5. Rename id column as offer_id"
   ]
  },
  {
   "cell_type": "code",
   "execution_count": 19,
   "metadata": {},
   "outputs": [],
   "source": [
    "# one hot encode offer_type column\n",
    "portfolio = pd.get_dummies(portfolio, columns=['offer_type'],prefix=\"\", prefix_sep=\"\")"
   ]
  },
  {
   "cell_type": "code",
   "execution_count": 20,
   "metadata": {},
   "outputs": [],
   "source": [
    "# Add in the email, mobile, social, and web columns\n",
    "for channel in avail_channels:\n",
    "    portfolio[channel] = portfolio['channels'].apply(lambda x: 1 if channel in x else 0)  \n",
    "\n",
    "# Drop the original channels column\n",
    "portfolio.drop('channels', axis = 1, inplace=True) "
   ]
  },
  {
   "cell_type": "code",
   "execution_count": 21,
   "metadata": {},
   "outputs": [],
   "source": [
    "# create a new column duration_hours by converting duration column \n",
    "portfolio['duration_hours'] = portfolio['duration'].apply(lambda x: x * 24)\n",
    "\n",
    "# Drop the original duration column\n",
    "portfolio.drop('duration', axis = 1, inplace=True) "
   ]
  },
  {
   "cell_type": "code",
   "execution_count": 22,
   "metadata": {},
   "outputs": [
    {
     "data": {
      "text/html": [
       "<div>\n",
       "<style scoped>\n",
       "    .dataframe tbody tr th:only-of-type {\n",
       "        vertical-align: middle;\n",
       "    }\n",
       "\n",
       "    .dataframe tbody tr th {\n",
       "        vertical-align: top;\n",
       "    }\n",
       "\n",
       "    .dataframe thead th {\n",
       "        text-align: right;\n",
       "    }\n",
       "</style>\n",
       "<table border=\"1\" class=\"dataframe\">\n",
       "  <thead>\n",
       "    <tr style=\"text-align: right;\">\n",
       "      <th></th>\n",
       "      <th>reward</th>\n",
       "      <th>difficulty</th>\n",
       "      <th>offer_id</th>\n",
       "      <th>bogo</th>\n",
       "      <th>discount</th>\n",
       "      <th>informational</th>\n",
       "      <th>email</th>\n",
       "      <th>mobile</th>\n",
       "      <th>social</th>\n",
       "      <th>web</th>\n",
       "      <th>duration_hours</th>\n",
       "    </tr>\n",
       "  </thead>\n",
       "  <tbody>\n",
       "    <tr>\n",
       "      <th>0</th>\n",
       "      <td>10</td>\n",
       "      <td>10</td>\n",
       "      <td>ae264e3637204a6fb9bb56bc8210ddfd</td>\n",
       "      <td>1</td>\n",
       "      <td>0</td>\n",
       "      <td>0</td>\n",
       "      <td>1</td>\n",
       "      <td>1</td>\n",
       "      <td>1</td>\n",
       "      <td>0</td>\n",
       "      <td>168</td>\n",
       "    </tr>\n",
       "    <tr>\n",
       "      <th>1</th>\n",
       "      <td>10</td>\n",
       "      <td>10</td>\n",
       "      <td>4d5c57ea9a6940dd891ad53e9dbe8da0</td>\n",
       "      <td>1</td>\n",
       "      <td>0</td>\n",
       "      <td>0</td>\n",
       "      <td>1</td>\n",
       "      <td>1</td>\n",
       "      <td>1</td>\n",
       "      <td>1</td>\n",
       "      <td>120</td>\n",
       "    </tr>\n",
       "    <tr>\n",
       "      <th>2</th>\n",
       "      <td>0</td>\n",
       "      <td>0</td>\n",
       "      <td>3f207df678b143eea3cee63160fa8bed</td>\n",
       "      <td>0</td>\n",
       "      <td>0</td>\n",
       "      <td>1</td>\n",
       "      <td>1</td>\n",
       "      <td>1</td>\n",
       "      <td>0</td>\n",
       "      <td>1</td>\n",
       "      <td>96</td>\n",
       "    </tr>\n",
       "    <tr>\n",
       "      <th>3</th>\n",
       "      <td>5</td>\n",
       "      <td>5</td>\n",
       "      <td>9b98b8c7a33c4b65b9aebfe6a799e6d9</td>\n",
       "      <td>1</td>\n",
       "      <td>0</td>\n",
       "      <td>0</td>\n",
       "      <td>1</td>\n",
       "      <td>1</td>\n",
       "      <td>0</td>\n",
       "      <td>1</td>\n",
       "      <td>168</td>\n",
       "    </tr>\n",
       "    <tr>\n",
       "      <th>4</th>\n",
       "      <td>5</td>\n",
       "      <td>20</td>\n",
       "      <td>0b1e1539f2cc45b7b9fa7c272da2e1d7</td>\n",
       "      <td>0</td>\n",
       "      <td>1</td>\n",
       "      <td>0</td>\n",
       "      <td>1</td>\n",
       "      <td>0</td>\n",
       "      <td>0</td>\n",
       "      <td>1</td>\n",
       "      <td>240</td>\n",
       "    </tr>\n",
       "  </tbody>\n",
       "</table>\n",
       "</div>"
      ],
      "text/plain": [
       "   reward  difficulty                          offer_id  bogo  discount  \\\n",
       "0      10          10  ae264e3637204a6fb9bb56bc8210ddfd     1         0   \n",
       "1      10          10  4d5c57ea9a6940dd891ad53e9dbe8da0     1         0   \n",
       "2       0           0  3f207df678b143eea3cee63160fa8bed     0         0   \n",
       "3       5           5  9b98b8c7a33c4b65b9aebfe6a799e6d9     1         0   \n",
       "4       5          20  0b1e1539f2cc45b7b9fa7c272da2e1d7     0         1   \n",
       "\n",
       "   informational  email  mobile  social  web  duration_hours  \n",
       "0              0      1       1       1    0             168  \n",
       "1              0      1       1       1    1             120  \n",
       "2              1      1       1       0    1              96  \n",
       "3              0      1       1       0    1             168  \n",
       "4              0      1       0       0    1             240  "
      ]
     },
     "execution_count": 22,
     "metadata": {},
     "output_type": "execute_result"
    }
   ],
   "source": [
    "# rename if column as offer_id\n",
    "portfolio = portfolio.rename(columns={\"id\":\"offer_id\"})\n",
    "portfolio.head()"
   ]
  },
  {
   "cell_type": "markdown",
   "metadata": {},
   "source": [
    "### 2. Profile Data\n",
    "\n",
    "1. Drop profiles with missing data\n",
    "2. Convert became_member_on column to actual dates\n",
    "3. Add a new column to identify the membership time period in days (to identify whether there's any relation)\n",
    "4. Rename id column as customer_id\n",
    "5. One hot encode gender column"
   ]
  },
  {
   "cell_type": "code",
   "execution_count": 23,
   "metadata": {},
   "outputs": [
    {
     "data": {
      "text/plain": [
       "2175"
      ]
     },
     "execution_count": 23,
     "metadata": {},
     "output_type": "execute_result"
    }
   ],
   "source": [
    "# before dropping the rows with missing data, we need to keep track of specific customer ids with missing data,\n",
    "# so that we could remove those from transript data too\n",
    "invalid_customer_ids = list(profile[profile['income'].isnull()]['id'])\n",
    "len(invalid_customer_ids)"
   ]
  },
  {
   "cell_type": "code",
   "execution_count": 24,
   "metadata": {},
   "outputs": [
    {
     "data": {
      "text/plain": [
       "14825"
      ]
     },
     "execution_count": 24,
     "metadata": {},
     "output_type": "execute_result"
    }
   ],
   "source": [
    "# drop profiles with missing data\n",
    "profile = profile.dropna(axis=0, subset=['income'])\n",
    "profile.shape[0]   # 17000-2175=14825"
   ]
  },
  {
   "cell_type": "code",
   "execution_count": 25,
   "metadata": {},
   "outputs": [],
   "source": [
    "# convert became_member_on to actual date\n",
    "profile['member_date'] = profile.became_member_on.apply(lambda x: datetime.datetime.strptime(str(x), '%Y%m%d'))\n",
    "profile.drop('became_member_on', axis = 1, inplace = True)"
   ]
  },
  {
   "cell_type": "code",
   "execution_count": 26,
   "metadata": {},
   "outputs": [],
   "source": [
    "# add a new column membership_days to profile dataset\n",
    "curr_datetime = datetime.datetime.now()\n",
    "profile['membership_days']=profile['member_date'].apply(lambda x: (curr_datetime - x).days )"
   ]
  },
  {
   "cell_type": "code",
   "execution_count": 27,
   "metadata": {},
   "outputs": [],
   "source": [
    "# Rename id column as customer_id\n",
    "profile = profile.rename(columns={\"id\":\"customer_id\"})"
   ]
  },
  {
   "cell_type": "code",
   "execution_count": 28,
   "metadata": {},
   "outputs": [],
   "source": [
    "# one hot encode gender column\n",
    "profile = pd.get_dummies(profile, columns=['gender'],prefix=\"\", prefix_sep=\"\")"
   ]
  },
  {
   "cell_type": "markdown",
   "metadata": {},
   "source": [
    "### 3. Transcript Data\n",
    "\n",
    "1. Rename person column to customer_id\n",
    "2. Drop data which relates to invalid customer profiles\n",
    "3. Convert value column into 2 columns; value and value_type (value column will be replaced with actual values)\n",
    "4. One hot encode event column and rename the column names"
   ]
  },
  {
   "cell_type": "code",
   "execution_count": 29,
   "metadata": {},
   "outputs": [
    {
     "data": {
      "text/html": [
       "<div>\n",
       "<style scoped>\n",
       "    .dataframe tbody tr th:only-of-type {\n",
       "        vertical-align: middle;\n",
       "    }\n",
       "\n",
       "    .dataframe tbody tr th {\n",
       "        vertical-align: top;\n",
       "    }\n",
       "\n",
       "    .dataframe thead th {\n",
       "        text-align: right;\n",
       "    }\n",
       "</style>\n",
       "<table border=\"1\" class=\"dataframe\">\n",
       "  <thead>\n",
       "    <tr style=\"text-align: right;\">\n",
       "      <th></th>\n",
       "      <th>person</th>\n",
       "      <th>event</th>\n",
       "      <th>value</th>\n",
       "      <th>time</th>\n",
       "    </tr>\n",
       "  </thead>\n",
       "  <tbody>\n",
       "    <tr>\n",
       "      <th>0</th>\n",
       "      <td>78afa995795e4d85b5d9ceeca43f5fef</td>\n",
       "      <td>offer received</td>\n",
       "      <td>{'offer id': '9b98b8c7a33c4b65b9aebfe6a799e6d9'}</td>\n",
       "      <td>0</td>\n",
       "    </tr>\n",
       "    <tr>\n",
       "      <th>1</th>\n",
       "      <td>a03223e636434f42ac4c3df47e8bac43</td>\n",
       "      <td>offer received</td>\n",
       "      <td>{'offer id': '0b1e1539f2cc45b7b9fa7c272da2e1d7'}</td>\n",
       "      <td>0</td>\n",
       "    </tr>\n",
       "    <tr>\n",
       "      <th>2</th>\n",
       "      <td>e2127556f4f64592b11af22de27a7932</td>\n",
       "      <td>offer received</td>\n",
       "      <td>{'offer id': '2906b810c7d4411798c6938adc9daaa5'}</td>\n",
       "      <td>0</td>\n",
       "    </tr>\n",
       "    <tr>\n",
       "      <th>3</th>\n",
       "      <td>8ec6ce2a7e7949b1bf142def7d0e0586</td>\n",
       "      <td>offer received</td>\n",
       "      <td>{'offer id': 'fafdcd668e3743c1bb461111dcafc2a4'}</td>\n",
       "      <td>0</td>\n",
       "    </tr>\n",
       "    <tr>\n",
       "      <th>4</th>\n",
       "      <td>68617ca6246f4fbc85e91a2a49552598</td>\n",
       "      <td>offer received</td>\n",
       "      <td>{'offer id': '4d5c57ea9a6940dd891ad53e9dbe8da0'}</td>\n",
       "      <td>0</td>\n",
       "    </tr>\n",
       "  </tbody>\n",
       "</table>\n",
       "</div>"
      ],
      "text/plain": [
       "                             person           event  \\\n",
       "0  78afa995795e4d85b5d9ceeca43f5fef  offer received   \n",
       "1  a03223e636434f42ac4c3df47e8bac43  offer received   \n",
       "2  e2127556f4f64592b11af22de27a7932  offer received   \n",
       "3  8ec6ce2a7e7949b1bf142def7d0e0586  offer received   \n",
       "4  68617ca6246f4fbc85e91a2a49552598  offer received   \n",
       "\n",
       "                                              value  time  \n",
       "0  {'offer id': '9b98b8c7a33c4b65b9aebfe6a799e6d9'}     0  \n",
       "1  {'offer id': '0b1e1539f2cc45b7b9fa7c272da2e1d7'}     0  \n",
       "2  {'offer id': '2906b810c7d4411798c6938adc9daaa5'}     0  \n",
       "3  {'offer id': 'fafdcd668e3743c1bb461111dcafc2a4'}     0  \n",
       "4  {'offer id': '4d5c57ea9a6940dd891ad53e9dbe8da0'}     0  "
      ]
     },
     "execution_count": 29,
     "metadata": {},
     "output_type": "execute_result"
    }
   ],
   "source": [
    "transcript.head()"
   ]
  },
  {
   "cell_type": "code",
   "execution_count": 30,
   "metadata": {},
   "outputs": [],
   "source": [
    "# rename person column to customer_id\n",
    "transcript = transcript.rename(columns={\"person\":\"customer_id\"})"
   ]
  },
  {
   "cell_type": "code",
   "execution_count": 31,
   "metadata": {},
   "outputs": [],
   "source": [
    "# drop data which relates to invalid customer profiles\n",
    "transcript = transcript[~transcript['customer_id'].isin(invalid_customer_ids)]"
   ]
  },
  {
   "cell_type": "code",
   "execution_count": 32,
   "metadata": {},
   "outputs": [],
   "source": [
    "# Convert value column into 2 columns; value and value_type\n",
    "transcript['value_type'] = transcript['value'].apply(lambda x: list(x.keys())[0])\n",
    "transcript['value'] = transcript['value'].apply(lambda x: list(x.values())[0])"
   ]
  },
  {
   "cell_type": "code",
   "execution_count": 33,
   "metadata": {},
   "outputs": [],
   "source": [
    "# one hot encode event column\n",
    "transcript = pd.get_dummies(transcript, columns=['event'],prefix=\"\", prefix_sep=\"\")"
   ]
  },
  {
   "cell_type": "code",
   "execution_count": 34,
   "metadata": {},
   "outputs": [],
   "source": [
    "# rename column names\n",
    "transcript = transcript.rename(columns={\"offer received\":\"offer_received\", \"offer viewed\":\"offer_viewed\", \"offer completed\":\"offer_completed\"})"
   ]
  },
  {
   "cell_type": "code",
   "execution_count": 35,
   "metadata": {},
   "outputs": [
    {
     "data": {
      "text/plain": [
       "amount      123957\n",
       "offer id    116361\n",
       "offer_id     32444\n",
       "Name: value_type, dtype: int64"
      ]
     },
     "execution_count": 35,
     "metadata": {},
     "output_type": "execute_result"
    }
   ],
   "source": [
    "# check unique values in value_type column\n",
    "transcript.value_type.value_counts()"
   ]
  },
  {
   "cell_type": "markdown",
   "metadata": {},
   "source": [
    "According to above cell, it seems that value_type column has 3 values, (amount, offer id and offer_id), when it should have only 2 different values amount and offer_id. Hence, we need to replace 'offer id' with 'offer_id'."
   ]
  },
  {
   "cell_type": "code",
   "execution_count": 36,
   "metadata": {},
   "outputs": [],
   "source": [
    "transcript['value_type'] = transcript['value_type'].apply(lambda x:'offer_id' if x=='offer id' else x)"
   ]
  },
  {
   "cell_type": "code",
   "execution_count": 37,
   "metadata": {},
   "outputs": [
    {
     "data": {
      "text/plain": [
       "offer_id    148805\n",
       "amount      123957\n",
       "Name: value_type, dtype: int64"
      ]
     },
     "execution_count": 37,
     "metadata": {},
     "output_type": "execute_result"
    }
   ],
   "source": [
    "# check unique values in value_type column after updating\n",
    "transcript.value_type.value_counts()"
   ]
  },
  {
   "cell_type": "markdown",
   "metadata": {},
   "source": [
    "### 4. Create customer_offer dataframe\n",
    "\n",
    "In this step, my goal is to come up with a new dataframe, which includes data related to whether a customer completed a particular offer or not. This dataframe would contain these columns; customer_id, offer_id, completed.\n",
    "\n",
    "The 'completed' column would contain binary values (1's and 0's)\n",
    "\n",
    "Hence, as the first step for it, I need to filter out offer related rows from transcript dataframe. Afterwards, we can rename 'value' column as 'offer_id' and drop 'value_type' and 'transaction' columns, since they don't contain any important information for this task. "
   ]
  },
  {
   "cell_type": "code",
   "execution_count": 38,
   "metadata": {},
   "outputs": [
    {
     "data": {
      "text/plain": [
       "148805"
      ]
     },
     "execution_count": 38,
     "metadata": {},
     "output_type": "execute_result"
    }
   ],
   "source": [
    "# Filter out offer details from transcript dataframe\n",
    "offer_data = transcript[transcript['value_type']=='offer_id']\n",
    "offer_data.shape[0]"
   ]
  },
  {
   "cell_type": "code",
   "execution_count": 39,
   "metadata": {},
   "outputs": [
    {
     "data": {
      "text/html": [
       "<div>\n",
       "<style scoped>\n",
       "    .dataframe tbody tr th:only-of-type {\n",
       "        vertical-align: middle;\n",
       "    }\n",
       "\n",
       "    .dataframe tbody tr th {\n",
       "        vertical-align: top;\n",
       "    }\n",
       "\n",
       "    .dataframe thead th {\n",
       "        text-align: right;\n",
       "    }\n",
       "</style>\n",
       "<table border=\"1\" class=\"dataframe\">\n",
       "  <thead>\n",
       "    <tr style=\"text-align: right;\">\n",
       "      <th></th>\n",
       "      <th>customer_id</th>\n",
       "      <th>offer_id</th>\n",
       "      <th>time</th>\n",
       "      <th>offer_completed</th>\n",
       "      <th>offer_received</th>\n",
       "      <th>offer_viewed</th>\n",
       "    </tr>\n",
       "  </thead>\n",
       "  <tbody>\n",
       "    <tr>\n",
       "      <th>0</th>\n",
       "      <td>78afa995795e4d85b5d9ceeca43f5fef</td>\n",
       "      <td>9b98b8c7a33c4b65b9aebfe6a799e6d9</td>\n",
       "      <td>0</td>\n",
       "      <td>0</td>\n",
       "      <td>1</td>\n",
       "      <td>0</td>\n",
       "    </tr>\n",
       "    <tr>\n",
       "      <th>2</th>\n",
       "      <td>e2127556f4f64592b11af22de27a7932</td>\n",
       "      <td>2906b810c7d4411798c6938adc9daaa5</td>\n",
       "      <td>0</td>\n",
       "      <td>0</td>\n",
       "      <td>1</td>\n",
       "      <td>0</td>\n",
       "    </tr>\n",
       "    <tr>\n",
       "      <th>5</th>\n",
       "      <td>389bc3fa690240e798340f5a15918d5c</td>\n",
       "      <td>f19421c1d4aa40978ebb69ca19b0e20d</td>\n",
       "      <td>0</td>\n",
       "      <td>0</td>\n",
       "      <td>1</td>\n",
       "      <td>0</td>\n",
       "    </tr>\n",
       "    <tr>\n",
       "      <th>7</th>\n",
       "      <td>2eeac8d8feae4a8cad5a6af0499a211d</td>\n",
       "      <td>3f207df678b143eea3cee63160fa8bed</td>\n",
       "      <td>0</td>\n",
       "      <td>0</td>\n",
       "      <td>1</td>\n",
       "      <td>0</td>\n",
       "    </tr>\n",
       "    <tr>\n",
       "      <th>8</th>\n",
       "      <td>aa4862eba776480b8bb9c68455b8c2e1</td>\n",
       "      <td>0b1e1539f2cc45b7b9fa7c272da2e1d7</td>\n",
       "      <td>0</td>\n",
       "      <td>0</td>\n",
       "      <td>1</td>\n",
       "      <td>0</td>\n",
       "    </tr>\n",
       "  </tbody>\n",
       "</table>\n",
       "</div>"
      ],
      "text/plain": [
       "                        customer_id                          offer_id  time  \\\n",
       "0  78afa995795e4d85b5d9ceeca43f5fef  9b98b8c7a33c4b65b9aebfe6a799e6d9     0   \n",
       "2  e2127556f4f64592b11af22de27a7932  2906b810c7d4411798c6938adc9daaa5     0   \n",
       "5  389bc3fa690240e798340f5a15918d5c  f19421c1d4aa40978ebb69ca19b0e20d     0   \n",
       "7  2eeac8d8feae4a8cad5a6af0499a211d  3f207df678b143eea3cee63160fa8bed     0   \n",
       "8  aa4862eba776480b8bb9c68455b8c2e1  0b1e1539f2cc45b7b9fa7c272da2e1d7     0   \n",
       "\n",
       "   offer_completed  offer_received  offer_viewed  \n",
       "0                0               1             0  \n",
       "2                0               1             0  \n",
       "5                0               1             0  \n",
       "7                0               1             0  \n",
       "8                0               1             0  "
      ]
     },
     "execution_count": 39,
     "metadata": {},
     "output_type": "execute_result"
    }
   ],
   "source": [
    "# do necessary changes to offer_data \n",
    "offer_data = offer_data.rename(columns={'value':'offer_id'})\n",
    "offer_data.drop(labels=['value_type','transaction'], axis = 1, inplace=True)\n",
    "offer_data.head()"
   ]
  },
  {
   "cell_type": "code",
   "execution_count": 40,
   "metadata": {},
   "outputs": [],
   "source": [
    "# group the offer data, first by customer_id and then by offer_id\n",
    "temp_offer = offer_data.groupby(['customer_id','offer_id']).agg({'time':'sum', 'offer_completed':'sum', 'offer_received': 'sum', 'offer_viewed': 'sum'})"
   ]
  },
  {
   "cell_type": "code",
   "execution_count": 41,
   "metadata": {},
   "outputs": [
    {
     "data": {
      "text/html": [
       "<div>\n",
       "<style scoped>\n",
       "    .dataframe tbody tr th:only-of-type {\n",
       "        vertical-align: middle;\n",
       "    }\n",
       "\n",
       "    .dataframe tbody tr th {\n",
       "        vertical-align: top;\n",
       "    }\n",
       "\n",
       "    .dataframe thead th {\n",
       "        text-align: right;\n",
       "    }\n",
       "</style>\n",
       "<table border=\"1\" class=\"dataframe\">\n",
       "  <thead>\n",
       "    <tr style=\"text-align: right;\">\n",
       "      <th></th>\n",
       "      <th></th>\n",
       "      <th>time</th>\n",
       "      <th>offer_completed</th>\n",
       "      <th>offer_received</th>\n",
       "      <th>offer_viewed</th>\n",
       "    </tr>\n",
       "    <tr>\n",
       "      <th>customer_id</th>\n",
       "      <th>offer_id</th>\n",
       "      <th></th>\n",
       "      <th></th>\n",
       "      <th></th>\n",
       "      <th></th>\n",
       "    </tr>\n",
       "  </thead>\n",
       "  <tbody>\n",
       "    <tr>\n",
       "      <th rowspan=\"5\" valign=\"top\">0009655768c64bdeb2e877511632db8f</th>\n",
       "      <th>2906b810c7d4411798c6938adc9daaa5</th>\n",
       "      <td>1152</td>\n",
       "      <td>1</td>\n",
       "      <td>1</td>\n",
       "      <td>0</td>\n",
       "    </tr>\n",
       "    <tr>\n",
       "      <th>3f207df678b143eea3cee63160fa8bed</th>\n",
       "      <td>708</td>\n",
       "      <td>0</td>\n",
       "      <td>1</td>\n",
       "      <td>1</td>\n",
       "    </tr>\n",
       "    <tr>\n",
       "      <th>5a8bc65990b245e5a138643cd4eb9837</th>\n",
       "      <td>360</td>\n",
       "      <td>0</td>\n",
       "      <td>1</td>\n",
       "      <td>1</td>\n",
       "    </tr>\n",
       "    <tr>\n",
       "      <th>f19421c1d4aa40978ebb69ca19b0e20d</th>\n",
       "      <td>1278</td>\n",
       "      <td>1</td>\n",
       "      <td>1</td>\n",
       "      <td>1</td>\n",
       "    </tr>\n",
       "    <tr>\n",
       "      <th>fafdcd668e3743c1bb461111dcafc2a4</th>\n",
       "      <td>1572</td>\n",
       "      <td>1</td>\n",
       "      <td>1</td>\n",
       "      <td>1</td>\n",
       "    </tr>\n",
       "    <tr>\n",
       "      <th rowspan=\"5\" valign=\"top\">0011e0d4e6b944f998e987f904e8c1e5</th>\n",
       "      <th>0b1e1539f2cc45b7b9fa7c272da2e1d7</th>\n",
       "      <td>1416</td>\n",
       "      <td>1</td>\n",
       "      <td>1</td>\n",
       "      <td>1</td>\n",
       "    </tr>\n",
       "    <tr>\n",
       "      <th>2298d6c36e964ae4a3e7e9706d1fb8c2</th>\n",
       "      <td>606</td>\n",
       "      <td>1</td>\n",
       "      <td>1</td>\n",
       "      <td>1</td>\n",
       "    </tr>\n",
       "    <tr>\n",
       "      <th>3f207df678b143eea3cee63160fa8bed</th>\n",
       "      <td>6</td>\n",
       "      <td>0</td>\n",
       "      <td>1</td>\n",
       "      <td>1</td>\n",
       "    </tr>\n",
       "    <tr>\n",
       "      <th>5a8bc65990b245e5a138643cd4eb9837</th>\n",
       "      <td>690</td>\n",
       "      <td>0</td>\n",
       "      <td>1</td>\n",
       "      <td>1</td>\n",
       "    </tr>\n",
       "    <tr>\n",
       "      <th>9b98b8c7a33c4b65b9aebfe6a799e6d9</th>\n",
       "      <td>1596</td>\n",
       "      <td>1</td>\n",
       "      <td>1</td>\n",
       "      <td>1</td>\n",
       "    </tr>\n",
       "  </tbody>\n",
       "</table>\n",
       "</div>"
      ],
      "text/plain": [
       "                                                                   time  \\\n",
       "customer_id                      offer_id                                 \n",
       "0009655768c64bdeb2e877511632db8f 2906b810c7d4411798c6938adc9daaa5  1152   \n",
       "                                 3f207df678b143eea3cee63160fa8bed   708   \n",
       "                                 5a8bc65990b245e5a138643cd4eb9837   360   \n",
       "                                 f19421c1d4aa40978ebb69ca19b0e20d  1278   \n",
       "                                 fafdcd668e3743c1bb461111dcafc2a4  1572   \n",
       "0011e0d4e6b944f998e987f904e8c1e5 0b1e1539f2cc45b7b9fa7c272da2e1d7  1416   \n",
       "                                 2298d6c36e964ae4a3e7e9706d1fb8c2   606   \n",
       "                                 3f207df678b143eea3cee63160fa8bed     6   \n",
       "                                 5a8bc65990b245e5a138643cd4eb9837   690   \n",
       "                                 9b98b8c7a33c4b65b9aebfe6a799e6d9  1596   \n",
       "\n",
       "                                                                   offer_completed  \\\n",
       "customer_id                      offer_id                                            \n",
       "0009655768c64bdeb2e877511632db8f 2906b810c7d4411798c6938adc9daaa5                1   \n",
       "                                 3f207df678b143eea3cee63160fa8bed                0   \n",
       "                                 5a8bc65990b245e5a138643cd4eb9837                0   \n",
       "                                 f19421c1d4aa40978ebb69ca19b0e20d                1   \n",
       "                                 fafdcd668e3743c1bb461111dcafc2a4                1   \n",
       "0011e0d4e6b944f998e987f904e8c1e5 0b1e1539f2cc45b7b9fa7c272da2e1d7                1   \n",
       "                                 2298d6c36e964ae4a3e7e9706d1fb8c2                1   \n",
       "                                 3f207df678b143eea3cee63160fa8bed                0   \n",
       "                                 5a8bc65990b245e5a138643cd4eb9837                0   \n",
       "                                 9b98b8c7a33c4b65b9aebfe6a799e6d9                1   \n",
       "\n",
       "                                                                   offer_received  \\\n",
       "customer_id                      offer_id                                           \n",
       "0009655768c64bdeb2e877511632db8f 2906b810c7d4411798c6938adc9daaa5               1   \n",
       "                                 3f207df678b143eea3cee63160fa8bed               1   \n",
       "                                 5a8bc65990b245e5a138643cd4eb9837               1   \n",
       "                                 f19421c1d4aa40978ebb69ca19b0e20d               1   \n",
       "                                 fafdcd668e3743c1bb461111dcafc2a4               1   \n",
       "0011e0d4e6b944f998e987f904e8c1e5 0b1e1539f2cc45b7b9fa7c272da2e1d7               1   \n",
       "                                 2298d6c36e964ae4a3e7e9706d1fb8c2               1   \n",
       "                                 3f207df678b143eea3cee63160fa8bed               1   \n",
       "                                 5a8bc65990b245e5a138643cd4eb9837               1   \n",
       "                                 9b98b8c7a33c4b65b9aebfe6a799e6d9               1   \n",
       "\n",
       "                                                                   offer_viewed  \n",
       "customer_id                      offer_id                                        \n",
       "0009655768c64bdeb2e877511632db8f 2906b810c7d4411798c6938adc9daaa5             0  \n",
       "                                 3f207df678b143eea3cee63160fa8bed             1  \n",
       "                                 5a8bc65990b245e5a138643cd4eb9837             1  \n",
       "                                 f19421c1d4aa40978ebb69ca19b0e20d             1  \n",
       "                                 fafdcd668e3743c1bb461111dcafc2a4             1  \n",
       "0011e0d4e6b944f998e987f904e8c1e5 0b1e1539f2cc45b7b9fa7c272da2e1d7             1  \n",
       "                                 2298d6c36e964ae4a3e7e9706d1fb8c2             1  \n",
       "                                 3f207df678b143eea3cee63160fa8bed             1  \n",
       "                                 5a8bc65990b245e5a138643cd4eb9837             1  \n",
       "                                 9b98b8c7a33c4b65b9aebfe6a799e6d9             1  "
      ]
     },
     "execution_count": 41,
     "metadata": {},
     "output_type": "execute_result"
    }
   ],
   "source": [
    "temp_offer.head(10)"
   ]
  },
  {
   "cell_type": "code",
   "execution_count": 42,
   "metadata": {},
   "outputs": [],
   "source": [
    "# Because creating this dataframe takes quite a lot of time, I have saved it in a pickle file and \n",
    "# commented this code\n",
    "\n",
    "# # create customer_offer dataframe\n",
    "# customer_offer = pd.DataFrame(columns=['customer_id', 'offer_id', 'completed'])\n",
    "\n",
    "# for cust in set(offer_data['customer_id']):\n",
    "#     for off in set(offer_data['offer_id']):\n",
    "#         try:\n",
    "#             record = temp_offer.loc[cust,off]\n",
    "#             # in order to complete a offer, a customer should receive, view and then complete an offer\n",
    "#             completed_offer = (record.offer_received == 1 & record.offer_viewed == 1 & record.offer_completed == 1)\n",
    "#             customer_offer = customer_offer.append({'customer_id': cust, 'offer_id': off, 'completed':completed_offer}, ignore_index=True)    \n",
    "#         except:\n",
    "#             continue\n",
    "#\n",
    "# customer_offer.to_pickle(\"./customer_offer.pkl\")"
   ]
  },
  {
   "cell_type": "code",
   "execution_count": 43,
   "metadata": {},
   "outputs": [
    {
     "data": {
      "text/html": [
       "<div>\n",
       "<style scoped>\n",
       "    .dataframe tbody tr th:only-of-type {\n",
       "        vertical-align: middle;\n",
       "    }\n",
       "\n",
       "    .dataframe tbody tr th {\n",
       "        vertical-align: top;\n",
       "    }\n",
       "\n",
       "    .dataframe thead th {\n",
       "        text-align: right;\n",
       "    }\n",
       "</style>\n",
       "<table border=\"1\" class=\"dataframe\">\n",
       "  <thead>\n",
       "    <tr style=\"text-align: right;\">\n",
       "      <th></th>\n",
       "      <th>customer_id</th>\n",
       "      <th>offer_id</th>\n",
       "      <th>completed</th>\n",
       "    </tr>\n",
       "  </thead>\n",
       "  <tbody>\n",
       "    <tr>\n",
       "      <th>0</th>\n",
       "      <td>655f294ab8154d3ebffaa801f241271c</td>\n",
       "      <td>3f207df678b143eea3cee63160fa8bed</td>\n",
       "      <td>False</td>\n",
       "    </tr>\n",
       "    <tr>\n",
       "      <th>1</th>\n",
       "      <td>655f294ab8154d3ebffaa801f241271c</td>\n",
       "      <td>fafdcd668e3743c1bb461111dcafc2a4</td>\n",
       "      <td>False</td>\n",
       "    </tr>\n",
       "    <tr>\n",
       "      <th>2</th>\n",
       "      <td>655f294ab8154d3ebffaa801f241271c</td>\n",
       "      <td>ae264e3637204a6fb9bb56bc8210ddfd</td>\n",
       "      <td>True</td>\n",
       "    </tr>\n",
       "    <tr>\n",
       "      <th>3</th>\n",
       "      <td>655f294ab8154d3ebffaa801f241271c</td>\n",
       "      <td>f19421c1d4aa40978ebb69ca19b0e20d</td>\n",
       "      <td>True</td>\n",
       "    </tr>\n",
       "    <tr>\n",
       "      <th>4</th>\n",
       "      <td>655f294ab8154d3ebffaa801f241271c</td>\n",
       "      <td>0b1e1539f2cc45b7b9fa7c272da2e1d7</td>\n",
       "      <td>False</td>\n",
       "    </tr>\n",
       "  </tbody>\n",
       "</table>\n",
       "</div>"
      ],
      "text/plain": [
       "                        customer_id                          offer_id  \\\n",
       "0  655f294ab8154d3ebffaa801f241271c  3f207df678b143eea3cee63160fa8bed   \n",
       "1  655f294ab8154d3ebffaa801f241271c  fafdcd668e3743c1bb461111dcafc2a4   \n",
       "2  655f294ab8154d3ebffaa801f241271c  ae264e3637204a6fb9bb56bc8210ddfd   \n",
       "3  655f294ab8154d3ebffaa801f241271c  f19421c1d4aa40978ebb69ca19b0e20d   \n",
       "4  655f294ab8154d3ebffaa801f241271c  0b1e1539f2cc45b7b9fa7c272da2e1d7   \n",
       "\n",
       "  completed  \n",
       "0     False  \n",
       "1     False  \n",
       "2      True  \n",
       "3      True  \n",
       "4     False  "
      ]
     },
     "execution_count": 43,
     "metadata": {},
     "output_type": "execute_result"
    }
   ],
   "source": [
    "customer_offer = pd.read_pickle(\"./customer_offer.pkl\")\n",
    "customer_offer.head()"
   ]
  },
  {
   "cell_type": "markdown",
   "metadata": {},
   "source": [
    "### 5. Create customer_transaction dataframe\n",
    "\n",
    "In this step my goal is to come up with a new dataframe which contains data related to average spending of a customer. That is, it will contain customer_id, avg_amount_spent\n",
    "\n",
    "'avg_amount_spent' is calculated as below;\n",
    " $\n",
    "    TotalAmount / TotalNumberOfTransactions\n",
    " $\n",
    " \n",
    "Hence, as the first step for it, I need to filter out transaction related rows from transcript dataframe. Afterwards, we can rename 'value' column as 'amount' and drop 'value_type', 'offer completed', 'offer received' and 'offer viewed' columns, since they don't contain any important information for this task."
   ]
  },
  {
   "cell_type": "code",
   "execution_count": 44,
   "metadata": {},
   "outputs": [
    {
     "data": {
      "text/plain": [
       "123957"
      ]
     },
     "execution_count": 44,
     "metadata": {},
     "output_type": "execute_result"
    }
   ],
   "source": [
    "# Filter out transaction details from transcript dataframe\n",
    "transaction_data = transcript[transcript['value_type']=='amount']\n",
    "transaction_data.shape[0]"
   ]
  },
  {
   "cell_type": "code",
   "execution_count": 45,
   "metadata": {},
   "outputs": [
    {
     "data": {
      "text/html": [
       "<div>\n",
       "<style scoped>\n",
       "    .dataframe tbody tr th:only-of-type {\n",
       "        vertical-align: middle;\n",
       "    }\n",
       "\n",
       "    .dataframe tbody tr th {\n",
       "        vertical-align: top;\n",
       "    }\n",
       "\n",
       "    .dataframe thead th {\n",
       "        text-align: right;\n",
       "    }\n",
       "</style>\n",
       "<table border=\"1\" class=\"dataframe\">\n",
       "  <thead>\n",
       "    <tr style=\"text-align: right;\">\n",
       "      <th></th>\n",
       "      <th>customer_id</th>\n",
       "      <th>amount</th>\n",
       "      <th>time</th>\n",
       "      <th>transaction</th>\n",
       "    </tr>\n",
       "  </thead>\n",
       "  <tbody>\n",
       "    <tr>\n",
       "      <th>12654</th>\n",
       "      <td>02c083884c7d45b39cc68e1314fec56c</td>\n",
       "      <td>0.83</td>\n",
       "      <td>0</td>\n",
       "      <td>1</td>\n",
       "    </tr>\n",
       "    <tr>\n",
       "      <th>12657</th>\n",
       "      <td>9fa9ae8f57894cc9a3b8a9bbe0fc1b2f</td>\n",
       "      <td>34.56</td>\n",
       "      <td>0</td>\n",
       "      <td>1</td>\n",
       "    </tr>\n",
       "    <tr>\n",
       "      <th>12659</th>\n",
       "      <td>54890f68699049c2a04d415abc25e717</td>\n",
       "      <td>13.23</td>\n",
       "      <td>0</td>\n",
       "      <td>1</td>\n",
       "    </tr>\n",
       "    <tr>\n",
       "      <th>12670</th>\n",
       "      <td>b2f1cd155b864803ad8334cdf13c4bd2</td>\n",
       "      <td>19.51</td>\n",
       "      <td>0</td>\n",
       "      <td>1</td>\n",
       "    </tr>\n",
       "    <tr>\n",
       "      <th>12671</th>\n",
       "      <td>fe97aa22dd3e48c8b143116a8403dd52</td>\n",
       "      <td>18.97</td>\n",
       "      <td>0</td>\n",
       "      <td>1</td>\n",
       "    </tr>\n",
       "  </tbody>\n",
       "</table>\n",
       "</div>"
      ],
      "text/plain": [
       "                            customer_id amount  time  transaction\n",
       "12654  02c083884c7d45b39cc68e1314fec56c   0.83     0            1\n",
       "12657  9fa9ae8f57894cc9a3b8a9bbe0fc1b2f  34.56     0            1\n",
       "12659  54890f68699049c2a04d415abc25e717  13.23     0            1\n",
       "12670  b2f1cd155b864803ad8334cdf13c4bd2  19.51     0            1\n",
       "12671  fe97aa22dd3e48c8b143116a8403dd52  18.97     0            1"
      ]
     },
     "execution_count": 45,
     "metadata": {},
     "output_type": "execute_result"
    }
   ],
   "source": [
    "# do necessary changes to transaction_data \n",
    "transaction_data = transaction_data.rename(columns={'value':'amount'})\n",
    "transaction_data.drop(labels=['value_type','offer_completed','offer_received','offer_viewed'], axis = 1, inplace=True)\n",
    "transaction_data.head()"
   ]
  },
  {
   "cell_type": "code",
   "execution_count": 46,
   "metadata": {},
   "outputs": [],
   "source": [
    "# Because creating this dataframe takes quite a lot of time, I have saved it in a pickle file and \n",
    "# commented this code\n",
    "\n",
    "# # creating customer_transaction dataframe\n",
    "# customer_transaction = pd.DataFrame(columns=['customer_id', 'avg_amount_spent'])\n",
    "# temp_trans = transaction_data.groupby('customer_id').agg({'amount':'sum', 'transaction':'sum'})\n",
    "\n",
    "# for cust in set(transaction_data['customer_id']):\n",
    "#     try:\n",
    "#         avg = temp_trans.loc[cust].amount/temp_trans.loc[cust].transaction\n",
    "#         customer_transaction = customer_transaction.append({'customer_id': cust, 'avg_amount_spent': avg}, ignore_index=True)\n",
    "#     except:\n",
    "#         continue\n",
    "# customer_transaction.to_pickle(\"./customer_transaction.pkl\")"
   ]
  },
  {
   "cell_type": "code",
   "execution_count": 47,
   "metadata": {},
   "outputs": [
    {
     "data": {
      "text/html": [
       "<div>\n",
       "<style scoped>\n",
       "    .dataframe tbody tr th:only-of-type {\n",
       "        vertical-align: middle;\n",
       "    }\n",
       "\n",
       "    .dataframe tbody tr th {\n",
       "        vertical-align: top;\n",
       "    }\n",
       "\n",
       "    .dataframe thead th {\n",
       "        text-align: right;\n",
       "    }\n",
       "</style>\n",
       "<table border=\"1\" class=\"dataframe\">\n",
       "  <thead>\n",
       "    <tr style=\"text-align: right;\">\n",
       "      <th></th>\n",
       "      <th>customer_id</th>\n",
       "      <th>avg_amount_spent</th>\n",
       "    </tr>\n",
       "  </thead>\n",
       "  <tbody>\n",
       "    <tr>\n",
       "      <th>0</th>\n",
       "      <td>655f294ab8154d3ebffaa801f241271c</td>\n",
       "      <td>29.067500</td>\n",
       "    </tr>\n",
       "    <tr>\n",
       "      <th>1</th>\n",
       "      <td>07220f70535d46459cbe0ca0e2c85dec</td>\n",
       "      <td>2.835385</td>\n",
       "    </tr>\n",
       "    <tr>\n",
       "      <th>2</th>\n",
       "      <td>bc0c2b81cb8d4d43bf07aaa7c0ffa915</td>\n",
       "      <td>3.715833</td>\n",
       "    </tr>\n",
       "    <tr>\n",
       "      <th>3</th>\n",
       "      <td>cff0f57c82cb47229c5b090d98864e29</td>\n",
       "      <td>4.229231</td>\n",
       "    </tr>\n",
       "    <tr>\n",
       "      <th>4</th>\n",
       "      <td>24eb364cc1914ee386aa13bd836a2ee2</td>\n",
       "      <td>16.712500</td>\n",
       "    </tr>\n",
       "  </tbody>\n",
       "</table>\n",
       "</div>"
      ],
      "text/plain": [
       "                        customer_id  avg_amount_spent\n",
       "0  655f294ab8154d3ebffaa801f241271c         29.067500\n",
       "1  07220f70535d46459cbe0ca0e2c85dec          2.835385\n",
       "2  bc0c2b81cb8d4d43bf07aaa7c0ffa915          3.715833\n",
       "3  cff0f57c82cb47229c5b090d98864e29          4.229231\n",
       "4  24eb364cc1914ee386aa13bd836a2ee2         16.712500"
      ]
     },
     "execution_count": 47,
     "metadata": {},
     "output_type": "execute_result"
    }
   ],
   "source": [
    "customer_transaction = pd.read_pickle(\"./customer_transaction.pkl\")\n",
    "customer_transaction.head()"
   ]
  },
  {
   "cell_type": "markdown",
   "metadata": {},
   "source": [
    "In order to use several classifiers, all the columns should be numeric. Hence, there's a need of converting customer ids and offer ids into numeric only values"
   ]
  },
  {
   "cell_type": "code",
   "execution_count": 48,
   "metadata": {},
   "outputs": [],
   "source": [
    "new_customer_ids = list(range(len(profile.customer_id)))\n",
    "profile['new_customer_id'] = new_customer_ids\n",
    "\n",
    "# save the mapping in a new dataframe\n",
    "customer_to_id_df = profile.filter(items=['customer_id','new_customer_id'])"
   ]
  },
  {
   "cell_type": "code",
   "execution_count": 49,
   "metadata": {},
   "outputs": [],
   "source": [
    "new_offer_ids = list(range(len(portfolio.offer_id)))\n",
    "portfolio['new_offer_id'] = new_offer_ids\n",
    "\n",
    "# save the mapping in a new dataframe\n",
    "offer_to_id_df = portfolio.filter(items=['offer_id','new_offer_id'])"
   ]
  },
  {
   "cell_type": "markdown",
   "metadata": {},
   "source": [
    "## Data Analysis\n",
    "\n",
    "Now we've completed preprocessing of all the datasets. Currently we have several dataframes which could be used for data analysis phase. They are;\n",
    "    * portfolio - contains meta data about offers\n",
    "    * profile - demorgraphic data for each customer\n",
    "    * customer_offer - details about offer completion by each customer\n",
    "    * customer_transaction - average spending of each customer\n",
    "    \n",
    "Hence, I'm planning to come up with a single dataframe by joining above dataframes"
   ]
  },
  {
   "cell_type": "code",
   "execution_count": 50,
   "metadata": {},
   "outputs": [],
   "source": [
    "join1 = customer_offer.join(customer_transaction.set_index('customer_id'), on='customer_id')"
   ]
  },
  {
   "cell_type": "code",
   "execution_count": 51,
   "metadata": {},
   "outputs": [
    {
     "data": {
      "text/html": [
       "<div>\n",
       "<style scoped>\n",
       "    .dataframe tbody tr th:only-of-type {\n",
       "        vertical-align: middle;\n",
       "    }\n",
       "\n",
       "    .dataframe tbody tr th {\n",
       "        vertical-align: top;\n",
       "    }\n",
       "\n",
       "    .dataframe thead th {\n",
       "        text-align: right;\n",
       "    }\n",
       "</style>\n",
       "<table border=\"1\" class=\"dataframe\">\n",
       "  <thead>\n",
       "    <tr style=\"text-align: right;\">\n",
       "      <th></th>\n",
       "      <th>customer_id</th>\n",
       "      <th>offer_id</th>\n",
       "      <th>completed</th>\n",
       "      <th>avg_amount_spent</th>\n",
       "    </tr>\n",
       "  </thead>\n",
       "  <tbody>\n",
       "    <tr>\n",
       "      <th>0</th>\n",
       "      <td>655f294ab8154d3ebffaa801f241271c</td>\n",
       "      <td>3f207df678b143eea3cee63160fa8bed</td>\n",
       "      <td>False</td>\n",
       "      <td>29.0675</td>\n",
       "    </tr>\n",
       "    <tr>\n",
       "      <th>1</th>\n",
       "      <td>655f294ab8154d3ebffaa801f241271c</td>\n",
       "      <td>fafdcd668e3743c1bb461111dcafc2a4</td>\n",
       "      <td>False</td>\n",
       "      <td>29.0675</td>\n",
       "    </tr>\n",
       "    <tr>\n",
       "      <th>2</th>\n",
       "      <td>655f294ab8154d3ebffaa801f241271c</td>\n",
       "      <td>ae264e3637204a6fb9bb56bc8210ddfd</td>\n",
       "      <td>True</td>\n",
       "      <td>29.0675</td>\n",
       "    </tr>\n",
       "    <tr>\n",
       "      <th>3</th>\n",
       "      <td>655f294ab8154d3ebffaa801f241271c</td>\n",
       "      <td>f19421c1d4aa40978ebb69ca19b0e20d</td>\n",
       "      <td>True</td>\n",
       "      <td>29.0675</td>\n",
       "    </tr>\n",
       "    <tr>\n",
       "      <th>4</th>\n",
       "      <td>655f294ab8154d3ebffaa801f241271c</td>\n",
       "      <td>0b1e1539f2cc45b7b9fa7c272da2e1d7</td>\n",
       "      <td>False</td>\n",
       "      <td>29.0675</td>\n",
       "    </tr>\n",
       "  </tbody>\n",
       "</table>\n",
       "</div>"
      ],
      "text/plain": [
       "                        customer_id                          offer_id  \\\n",
       "0  655f294ab8154d3ebffaa801f241271c  3f207df678b143eea3cee63160fa8bed   \n",
       "1  655f294ab8154d3ebffaa801f241271c  fafdcd668e3743c1bb461111dcafc2a4   \n",
       "2  655f294ab8154d3ebffaa801f241271c  ae264e3637204a6fb9bb56bc8210ddfd   \n",
       "3  655f294ab8154d3ebffaa801f241271c  f19421c1d4aa40978ebb69ca19b0e20d   \n",
       "4  655f294ab8154d3ebffaa801f241271c  0b1e1539f2cc45b7b9fa7c272da2e1d7   \n",
       "\n",
       "  completed  avg_amount_spent  \n",
       "0     False           29.0675  \n",
       "1     False           29.0675  \n",
       "2      True           29.0675  \n",
       "3      True           29.0675  \n",
       "4     False           29.0675  "
      ]
     },
     "execution_count": 51,
     "metadata": {},
     "output_type": "execute_result"
    }
   ],
   "source": [
    "join1.head()"
   ]
  },
  {
   "cell_type": "code",
   "execution_count": 52,
   "metadata": {},
   "outputs": [
    {
     "data": {
      "text/plain": [
       "customer_id            0\n",
       "offer_id               0\n",
       "completed              0\n",
       "avg_amount_spent    1235\n",
       "dtype: int64"
      ]
     },
     "execution_count": 52,
     "metadata": {},
     "output_type": "execute_result"
    }
   ],
   "source": [
    "# check whether there are any NaNs, in the new dataframe\n",
    "join1.isnull().sum(axis=0)"
   ]
  },
  {
   "cell_type": "markdown",
   "metadata": {},
   "source": [
    "After doing some investigations on this, I figured out that these NaNs are there for customers, who have not done\n",
    "any transaction (i.e. no transaction records in transcript dataset). Hence, I will replace the NaN values with 0, before proceeding with this dataframe further."
   ]
  },
  {
   "cell_type": "code",
   "execution_count": 53,
   "metadata": {},
   "outputs": [],
   "source": [
    "join1 = join1.fillna(0)"
   ]
  },
  {
   "cell_type": "code",
   "execution_count": 54,
   "metadata": {},
   "outputs": [
    {
     "data": {
      "text/html": [
       "<div>\n",
       "<style scoped>\n",
       "    .dataframe tbody tr th:only-of-type {\n",
       "        vertical-align: middle;\n",
       "    }\n",
       "\n",
       "    .dataframe tbody tr th {\n",
       "        vertical-align: top;\n",
       "    }\n",
       "\n",
       "    .dataframe thead th {\n",
       "        text-align: right;\n",
       "    }\n",
       "</style>\n",
       "<table border=\"1\" class=\"dataframe\">\n",
       "  <thead>\n",
       "    <tr style=\"text-align: right;\">\n",
       "      <th></th>\n",
       "      <th>customer_id</th>\n",
       "      <th>offer_id</th>\n",
       "      <th>completed</th>\n",
       "      <th>avg_amount_spent</th>\n",
       "      <th>reward</th>\n",
       "      <th>difficulty</th>\n",
       "      <th>bogo</th>\n",
       "      <th>discount</th>\n",
       "      <th>informational</th>\n",
       "      <th>email</th>\n",
       "      <th>mobile</th>\n",
       "      <th>social</th>\n",
       "      <th>web</th>\n",
       "      <th>duration_hours</th>\n",
       "      <th>new_offer_id</th>\n",
       "    </tr>\n",
       "  </thead>\n",
       "  <tbody>\n",
       "    <tr>\n",
       "      <th>0</th>\n",
       "      <td>655f294ab8154d3ebffaa801f241271c</td>\n",
       "      <td>3f207df678b143eea3cee63160fa8bed</td>\n",
       "      <td>False</td>\n",
       "      <td>29.0675</td>\n",
       "      <td>0</td>\n",
       "      <td>0</td>\n",
       "      <td>0</td>\n",
       "      <td>0</td>\n",
       "      <td>1</td>\n",
       "      <td>1</td>\n",
       "      <td>1</td>\n",
       "      <td>0</td>\n",
       "      <td>1</td>\n",
       "      <td>96</td>\n",
       "      <td>2</td>\n",
       "    </tr>\n",
       "    <tr>\n",
       "      <th>1</th>\n",
       "      <td>655f294ab8154d3ebffaa801f241271c</td>\n",
       "      <td>fafdcd668e3743c1bb461111dcafc2a4</td>\n",
       "      <td>False</td>\n",
       "      <td>29.0675</td>\n",
       "      <td>2</td>\n",
       "      <td>10</td>\n",
       "      <td>0</td>\n",
       "      <td>1</td>\n",
       "      <td>0</td>\n",
       "      <td>1</td>\n",
       "      <td>1</td>\n",
       "      <td>1</td>\n",
       "      <td>1</td>\n",
       "      <td>240</td>\n",
       "      <td>6</td>\n",
       "    </tr>\n",
       "    <tr>\n",
       "      <th>2</th>\n",
       "      <td>655f294ab8154d3ebffaa801f241271c</td>\n",
       "      <td>ae264e3637204a6fb9bb56bc8210ddfd</td>\n",
       "      <td>True</td>\n",
       "      <td>29.0675</td>\n",
       "      <td>10</td>\n",
       "      <td>10</td>\n",
       "      <td>1</td>\n",
       "      <td>0</td>\n",
       "      <td>0</td>\n",
       "      <td>1</td>\n",
       "      <td>1</td>\n",
       "      <td>1</td>\n",
       "      <td>0</td>\n",
       "      <td>168</td>\n",
       "      <td>0</td>\n",
       "    </tr>\n",
       "    <tr>\n",
       "      <th>3</th>\n",
       "      <td>655f294ab8154d3ebffaa801f241271c</td>\n",
       "      <td>f19421c1d4aa40978ebb69ca19b0e20d</td>\n",
       "      <td>True</td>\n",
       "      <td>29.0675</td>\n",
       "      <td>5</td>\n",
       "      <td>5</td>\n",
       "      <td>1</td>\n",
       "      <td>0</td>\n",
       "      <td>0</td>\n",
       "      <td>1</td>\n",
       "      <td>1</td>\n",
       "      <td>1</td>\n",
       "      <td>1</td>\n",
       "      <td>120</td>\n",
       "      <td>8</td>\n",
       "    </tr>\n",
       "    <tr>\n",
       "      <th>4</th>\n",
       "      <td>655f294ab8154d3ebffaa801f241271c</td>\n",
       "      <td>0b1e1539f2cc45b7b9fa7c272da2e1d7</td>\n",
       "      <td>False</td>\n",
       "      <td>29.0675</td>\n",
       "      <td>5</td>\n",
       "      <td>20</td>\n",
       "      <td>0</td>\n",
       "      <td>1</td>\n",
       "      <td>0</td>\n",
       "      <td>1</td>\n",
       "      <td>0</td>\n",
       "      <td>0</td>\n",
       "      <td>1</td>\n",
       "      <td>240</td>\n",
       "      <td>4</td>\n",
       "    </tr>\n",
       "  </tbody>\n",
       "</table>\n",
       "</div>"
      ],
      "text/plain": [
       "                        customer_id                          offer_id  \\\n",
       "0  655f294ab8154d3ebffaa801f241271c  3f207df678b143eea3cee63160fa8bed   \n",
       "1  655f294ab8154d3ebffaa801f241271c  fafdcd668e3743c1bb461111dcafc2a4   \n",
       "2  655f294ab8154d3ebffaa801f241271c  ae264e3637204a6fb9bb56bc8210ddfd   \n",
       "3  655f294ab8154d3ebffaa801f241271c  f19421c1d4aa40978ebb69ca19b0e20d   \n",
       "4  655f294ab8154d3ebffaa801f241271c  0b1e1539f2cc45b7b9fa7c272da2e1d7   \n",
       "\n",
       "   completed  avg_amount_spent  reward  difficulty  bogo  discount  \\\n",
       "0      False           29.0675       0           0     0         0   \n",
       "1      False           29.0675       2          10     0         1   \n",
       "2       True           29.0675      10          10     1         0   \n",
       "3       True           29.0675       5           5     1         0   \n",
       "4      False           29.0675       5          20     0         1   \n",
       "\n",
       "   informational  email  mobile  social  web  duration_hours  new_offer_id  \n",
       "0              1      1       1       0    1              96             2  \n",
       "1              0      1       1       1    1             240             6  \n",
       "2              0      1       1       1    0             168             0  \n",
       "3              0      1       1       1    1             120             8  \n",
       "4              0      1       0       0    1             240             4  "
      ]
     },
     "execution_count": 54,
     "metadata": {},
     "output_type": "execute_result"
    }
   ],
   "source": [
    "join2 = join1.join(portfolio.set_index('offer_id'), on='offer_id')\n",
    "join2.head()"
   ]
  },
  {
   "cell_type": "code",
   "execution_count": 55,
   "metadata": {},
   "outputs": [
    {
     "data": {
      "text/plain": [
       "customer_id         0\n",
       "offer_id            0\n",
       "completed           0\n",
       "avg_amount_spent    0\n",
       "reward              0\n",
       "difficulty          0\n",
       "bogo                0\n",
       "discount            0\n",
       "informational       0\n",
       "email               0\n",
       "mobile              0\n",
       "social              0\n",
       "web                 0\n",
       "duration_hours      0\n",
       "new_offer_id        0\n",
       "dtype: int64"
      ]
     },
     "execution_count": 55,
     "metadata": {},
     "output_type": "execute_result"
    }
   ],
   "source": [
    "# check whether there are any missing values in the new dataframe\n",
    "join2.isnull().sum(axis=0)"
   ]
  },
  {
   "cell_type": "code",
   "execution_count": 56,
   "metadata": {},
   "outputs": [
    {
     "data": {
      "text/html": [
       "<div>\n",
       "<style scoped>\n",
       "    .dataframe tbody tr th:only-of-type {\n",
       "        vertical-align: middle;\n",
       "    }\n",
       "\n",
       "    .dataframe tbody tr th {\n",
       "        vertical-align: top;\n",
       "    }\n",
       "\n",
       "    .dataframe thead th {\n",
       "        text-align: right;\n",
       "    }\n",
       "</style>\n",
       "<table border=\"1\" class=\"dataframe\">\n",
       "  <thead>\n",
       "    <tr style=\"text-align: right;\">\n",
       "      <th></th>\n",
       "      <th>customer_id</th>\n",
       "      <th>offer_id</th>\n",
       "      <th>completed</th>\n",
       "      <th>avg_amount_spent</th>\n",
       "      <th>reward</th>\n",
       "      <th>difficulty</th>\n",
       "      <th>bogo</th>\n",
       "      <th>discount</th>\n",
       "      <th>informational</th>\n",
       "      <th>email</th>\n",
       "      <th>...</th>\n",
       "      <th>duration_hours</th>\n",
       "      <th>new_offer_id</th>\n",
       "      <th>age</th>\n",
       "      <th>income</th>\n",
       "      <th>member_date</th>\n",
       "      <th>membership_days</th>\n",
       "      <th>F</th>\n",
       "      <th>M</th>\n",
       "      <th>O</th>\n",
       "      <th>new_customer_id</th>\n",
       "    </tr>\n",
       "  </thead>\n",
       "  <tbody>\n",
       "    <tr>\n",
       "      <th>0</th>\n",
       "      <td>655f294ab8154d3ebffaa801f241271c</td>\n",
       "      <td>3f207df678b143eea3cee63160fa8bed</td>\n",
       "      <td>False</td>\n",
       "      <td>29.0675</td>\n",
       "      <td>0</td>\n",
       "      <td>0</td>\n",
       "      <td>0</td>\n",
       "      <td>0</td>\n",
       "      <td>1</td>\n",
       "      <td>1</td>\n",
       "      <td>...</td>\n",
       "      <td>96</td>\n",
       "      <td>2</td>\n",
       "      <td>85</td>\n",
       "      <td>108000.0</td>\n",
       "      <td>2018-03-24</td>\n",
       "      <td>608</td>\n",
       "      <td>1</td>\n",
       "      <td>0</td>\n",
       "      <td>0</td>\n",
       "      <td>13391</td>\n",
       "    </tr>\n",
       "    <tr>\n",
       "      <th>1</th>\n",
       "      <td>655f294ab8154d3ebffaa801f241271c</td>\n",
       "      <td>fafdcd668e3743c1bb461111dcafc2a4</td>\n",
       "      <td>False</td>\n",
       "      <td>29.0675</td>\n",
       "      <td>2</td>\n",
       "      <td>10</td>\n",
       "      <td>0</td>\n",
       "      <td>1</td>\n",
       "      <td>0</td>\n",
       "      <td>1</td>\n",
       "      <td>...</td>\n",
       "      <td>240</td>\n",
       "      <td>6</td>\n",
       "      <td>85</td>\n",
       "      <td>108000.0</td>\n",
       "      <td>2018-03-24</td>\n",
       "      <td>608</td>\n",
       "      <td>1</td>\n",
       "      <td>0</td>\n",
       "      <td>0</td>\n",
       "      <td>13391</td>\n",
       "    </tr>\n",
       "    <tr>\n",
       "      <th>2</th>\n",
       "      <td>655f294ab8154d3ebffaa801f241271c</td>\n",
       "      <td>ae264e3637204a6fb9bb56bc8210ddfd</td>\n",
       "      <td>True</td>\n",
       "      <td>29.0675</td>\n",
       "      <td>10</td>\n",
       "      <td>10</td>\n",
       "      <td>1</td>\n",
       "      <td>0</td>\n",
       "      <td>0</td>\n",
       "      <td>1</td>\n",
       "      <td>...</td>\n",
       "      <td>168</td>\n",
       "      <td>0</td>\n",
       "      <td>85</td>\n",
       "      <td>108000.0</td>\n",
       "      <td>2018-03-24</td>\n",
       "      <td>608</td>\n",
       "      <td>1</td>\n",
       "      <td>0</td>\n",
       "      <td>0</td>\n",
       "      <td>13391</td>\n",
       "    </tr>\n",
       "    <tr>\n",
       "      <th>3</th>\n",
       "      <td>655f294ab8154d3ebffaa801f241271c</td>\n",
       "      <td>f19421c1d4aa40978ebb69ca19b0e20d</td>\n",
       "      <td>True</td>\n",
       "      <td>29.0675</td>\n",
       "      <td>5</td>\n",
       "      <td>5</td>\n",
       "      <td>1</td>\n",
       "      <td>0</td>\n",
       "      <td>0</td>\n",
       "      <td>1</td>\n",
       "      <td>...</td>\n",
       "      <td>120</td>\n",
       "      <td>8</td>\n",
       "      <td>85</td>\n",
       "      <td>108000.0</td>\n",
       "      <td>2018-03-24</td>\n",
       "      <td>608</td>\n",
       "      <td>1</td>\n",
       "      <td>0</td>\n",
       "      <td>0</td>\n",
       "      <td>13391</td>\n",
       "    </tr>\n",
       "    <tr>\n",
       "      <th>4</th>\n",
       "      <td>655f294ab8154d3ebffaa801f241271c</td>\n",
       "      <td>0b1e1539f2cc45b7b9fa7c272da2e1d7</td>\n",
       "      <td>False</td>\n",
       "      <td>29.0675</td>\n",
       "      <td>5</td>\n",
       "      <td>20</td>\n",
       "      <td>0</td>\n",
       "      <td>1</td>\n",
       "      <td>0</td>\n",
       "      <td>1</td>\n",
       "      <td>...</td>\n",
       "      <td>240</td>\n",
       "      <td>4</td>\n",
       "      <td>85</td>\n",
       "      <td>108000.0</td>\n",
       "      <td>2018-03-24</td>\n",
       "      <td>608</td>\n",
       "      <td>1</td>\n",
       "      <td>0</td>\n",
       "      <td>0</td>\n",
       "      <td>13391</td>\n",
       "    </tr>\n",
       "  </tbody>\n",
       "</table>\n",
       "<p>5 rows × 23 columns</p>\n",
       "</div>"
      ],
      "text/plain": [
       "                        customer_id                          offer_id  \\\n",
       "0  655f294ab8154d3ebffaa801f241271c  3f207df678b143eea3cee63160fa8bed   \n",
       "1  655f294ab8154d3ebffaa801f241271c  fafdcd668e3743c1bb461111dcafc2a4   \n",
       "2  655f294ab8154d3ebffaa801f241271c  ae264e3637204a6fb9bb56bc8210ddfd   \n",
       "3  655f294ab8154d3ebffaa801f241271c  f19421c1d4aa40978ebb69ca19b0e20d   \n",
       "4  655f294ab8154d3ebffaa801f241271c  0b1e1539f2cc45b7b9fa7c272da2e1d7   \n",
       "\n",
       "   completed  avg_amount_spent  reward  difficulty  bogo  discount  \\\n",
       "0      False           29.0675       0           0     0         0   \n",
       "1      False           29.0675       2          10     0         1   \n",
       "2       True           29.0675      10          10     1         0   \n",
       "3       True           29.0675       5           5     1         0   \n",
       "4      False           29.0675       5          20     0         1   \n",
       "\n",
       "   informational  email  ...  duration_hours  new_offer_id  age    income  \\\n",
       "0              1      1  ...              96             2   85  108000.0   \n",
       "1              0      1  ...             240             6   85  108000.0   \n",
       "2              0      1  ...             168             0   85  108000.0   \n",
       "3              0      1  ...             120             8   85  108000.0   \n",
       "4              0      1  ...             240             4   85  108000.0   \n",
       "\n",
       "   member_date  membership_days  F  M  O  new_customer_id  \n",
       "0   2018-03-24              608  1  0  0            13391  \n",
       "1   2018-03-24              608  1  0  0            13391  \n",
       "2   2018-03-24              608  1  0  0            13391  \n",
       "3   2018-03-24              608  1  0  0            13391  \n",
       "4   2018-03-24              608  1  0  0            13391  \n",
       "\n",
       "[5 rows x 23 columns]"
      ]
     },
     "execution_count": 56,
     "metadata": {},
     "output_type": "execute_result"
    }
   ],
   "source": [
    "# Now we need to join this new dataframe with customer demographic dataframe\n",
    "final_df = join2.join(profile.set_index('customer_id'), on='customer_id')\n",
    "final_df.head()"
   ]
  },
  {
   "cell_type": "code",
   "execution_count": 57,
   "metadata": {},
   "outputs": [
    {
     "data": {
      "text/plain": [
       "customer_id         0\n",
       "offer_id            0\n",
       "completed           0\n",
       "avg_amount_spent    0\n",
       "reward              0\n",
       "difficulty          0\n",
       "bogo                0\n",
       "discount            0\n",
       "informational       0\n",
       "email               0\n",
       "mobile              0\n",
       "social              0\n",
       "web                 0\n",
       "duration_hours      0\n",
       "new_offer_id        0\n",
       "age                 0\n",
       "income              0\n",
       "member_date         0\n",
       "membership_days     0\n",
       "F                   0\n",
       "M                   0\n",
       "O                   0\n",
       "new_customer_id     0\n",
       "dtype: int64"
      ]
     },
     "execution_count": 57,
     "metadata": {},
     "output_type": "execute_result"
    }
   ],
   "source": [
    "# check for missing values in the final_df\n",
    "final_df.isnull().sum(axis=0)"
   ]
  },
  {
   "cell_type": "code",
   "execution_count": 58,
   "metadata": {},
   "outputs": [],
   "source": [
    "# Now we can drop original customer_id, offer_id and member_date columns from this dataframe\n",
    "final_df = final_df.drop(columns=['customer_id','offer_id','member_date'])\n",
    "\n",
    "# to make my life easy, I'm storing this final_df in a pickle file\n",
    "final_df.to_pickle(\"./final_df.pkl\")"
   ]
  },
  {
   "cell_type": "code",
   "execution_count": 59,
   "metadata": {},
   "outputs": [
    {
     "data": {
      "text/html": [
       "<div>\n",
       "<style scoped>\n",
       "    .dataframe tbody tr th:only-of-type {\n",
       "        vertical-align: middle;\n",
       "    }\n",
       "\n",
       "    .dataframe tbody tr th {\n",
       "        vertical-align: top;\n",
       "    }\n",
       "\n",
       "    .dataframe thead th {\n",
       "        text-align: right;\n",
       "    }\n",
       "</style>\n",
       "<table border=\"1\" class=\"dataframe\">\n",
       "  <thead>\n",
       "    <tr style=\"text-align: right;\">\n",
       "      <th></th>\n",
       "      <th>completed</th>\n",
       "      <th>avg_amount_spent</th>\n",
       "      <th>reward</th>\n",
       "      <th>difficulty</th>\n",
       "      <th>bogo</th>\n",
       "      <th>discount</th>\n",
       "      <th>informational</th>\n",
       "      <th>email</th>\n",
       "      <th>mobile</th>\n",
       "      <th>social</th>\n",
       "      <th>web</th>\n",
       "      <th>duration_hours</th>\n",
       "      <th>new_offer_id</th>\n",
       "      <th>age</th>\n",
       "      <th>income</th>\n",
       "      <th>membership_days</th>\n",
       "      <th>F</th>\n",
       "      <th>M</th>\n",
       "      <th>O</th>\n",
       "      <th>new_customer_id</th>\n",
       "    </tr>\n",
       "  </thead>\n",
       "  <tbody>\n",
       "    <tr>\n",
       "      <th>0</th>\n",
       "      <td>False</td>\n",
       "      <td>29.0675</td>\n",
       "      <td>0</td>\n",
       "      <td>0</td>\n",
       "      <td>0</td>\n",
       "      <td>0</td>\n",
       "      <td>1</td>\n",
       "      <td>1</td>\n",
       "      <td>1</td>\n",
       "      <td>0</td>\n",
       "      <td>1</td>\n",
       "      <td>96</td>\n",
       "      <td>2</td>\n",
       "      <td>85</td>\n",
       "      <td>108000.0</td>\n",
       "      <td>608</td>\n",
       "      <td>1</td>\n",
       "      <td>0</td>\n",
       "      <td>0</td>\n",
       "      <td>13391</td>\n",
       "    </tr>\n",
       "    <tr>\n",
       "      <th>1</th>\n",
       "      <td>False</td>\n",
       "      <td>29.0675</td>\n",
       "      <td>2</td>\n",
       "      <td>10</td>\n",
       "      <td>0</td>\n",
       "      <td>1</td>\n",
       "      <td>0</td>\n",
       "      <td>1</td>\n",
       "      <td>1</td>\n",
       "      <td>1</td>\n",
       "      <td>1</td>\n",
       "      <td>240</td>\n",
       "      <td>6</td>\n",
       "      <td>85</td>\n",
       "      <td>108000.0</td>\n",
       "      <td>608</td>\n",
       "      <td>1</td>\n",
       "      <td>0</td>\n",
       "      <td>0</td>\n",
       "      <td>13391</td>\n",
       "    </tr>\n",
       "    <tr>\n",
       "      <th>2</th>\n",
       "      <td>True</td>\n",
       "      <td>29.0675</td>\n",
       "      <td>10</td>\n",
       "      <td>10</td>\n",
       "      <td>1</td>\n",
       "      <td>0</td>\n",
       "      <td>0</td>\n",
       "      <td>1</td>\n",
       "      <td>1</td>\n",
       "      <td>1</td>\n",
       "      <td>0</td>\n",
       "      <td>168</td>\n",
       "      <td>0</td>\n",
       "      <td>85</td>\n",
       "      <td>108000.0</td>\n",
       "      <td>608</td>\n",
       "      <td>1</td>\n",
       "      <td>0</td>\n",
       "      <td>0</td>\n",
       "      <td>13391</td>\n",
       "    </tr>\n",
       "    <tr>\n",
       "      <th>3</th>\n",
       "      <td>True</td>\n",
       "      <td>29.0675</td>\n",
       "      <td>5</td>\n",
       "      <td>5</td>\n",
       "      <td>1</td>\n",
       "      <td>0</td>\n",
       "      <td>0</td>\n",
       "      <td>1</td>\n",
       "      <td>1</td>\n",
       "      <td>1</td>\n",
       "      <td>1</td>\n",
       "      <td>120</td>\n",
       "      <td>8</td>\n",
       "      <td>85</td>\n",
       "      <td>108000.0</td>\n",
       "      <td>608</td>\n",
       "      <td>1</td>\n",
       "      <td>0</td>\n",
       "      <td>0</td>\n",
       "      <td>13391</td>\n",
       "    </tr>\n",
       "    <tr>\n",
       "      <th>4</th>\n",
       "      <td>False</td>\n",
       "      <td>29.0675</td>\n",
       "      <td>5</td>\n",
       "      <td>20</td>\n",
       "      <td>0</td>\n",
       "      <td>1</td>\n",
       "      <td>0</td>\n",
       "      <td>1</td>\n",
       "      <td>0</td>\n",
       "      <td>0</td>\n",
       "      <td>1</td>\n",
       "      <td>240</td>\n",
       "      <td>4</td>\n",
       "      <td>85</td>\n",
       "      <td>108000.0</td>\n",
       "      <td>608</td>\n",
       "      <td>1</td>\n",
       "      <td>0</td>\n",
       "      <td>0</td>\n",
       "      <td>13391</td>\n",
       "    </tr>\n",
       "  </tbody>\n",
       "</table>\n",
       "</div>"
      ],
      "text/plain": [
       "   completed  avg_amount_spent  reward  difficulty  bogo  discount  \\\n",
       "0      False           29.0675       0           0     0         0   \n",
       "1      False           29.0675       2          10     0         1   \n",
       "2       True           29.0675      10          10     1         0   \n",
       "3       True           29.0675       5           5     1         0   \n",
       "4      False           29.0675       5          20     0         1   \n",
       "\n",
       "   informational  email  mobile  social  web  duration_hours  new_offer_id  \\\n",
       "0              1      1       1       0    1              96             2   \n",
       "1              0      1       1       1    1             240             6   \n",
       "2              0      1       1       1    0             168             0   \n",
       "3              0      1       1       1    1             120             8   \n",
       "4              0      1       0       0    1             240             4   \n",
       "\n",
       "   age    income  membership_days  F  M  O  new_customer_id  \n",
       "0   85  108000.0              608  1  0  0            13391  \n",
       "1   85  108000.0              608  1  0  0            13391  \n",
       "2   85  108000.0              608  1  0  0            13391  \n",
       "3   85  108000.0              608  1  0  0            13391  \n",
       "4   85  108000.0              608  1  0  0            13391  "
      ]
     },
     "execution_count": 59,
     "metadata": {},
     "output_type": "execute_result"
    }
   ],
   "source": [
    "final_df = pd.read_pickle(\"./final_df.pkl\")\n",
    "final_df.head()"
   ]
  },
  {
   "cell_type": "markdown",
   "metadata": {},
   "source": [
    "***Now with this new dataframe, I'm going to build multiple models and do classification. Finally, I will pick the best classification model based on metrics such as accuracy and F1 score.***"
   ]
  },
  {
   "cell_type": "code",
   "execution_count": 60,
   "metadata": {},
   "outputs": [],
   "source": [
    "# our target column is 'completed', which is Binary\n",
    "\n",
    "X = final_df.drop(columns=['completed'])    #feature columns\n",
    "y = final_df.filter(['completed'])          #target column\n",
    "\n",
    "X_train, X_test, y_train, y_test = train_test_split(X, y, test_size=0.2, shuffle=True)"
   ]
  },
  {
   "cell_type": "code",
   "execution_count": 61,
   "metadata": {},
   "outputs": [],
   "source": [
    "def evaluate_model(clf,X_test,y_test,print_output=True):\n",
    "    \"\"\" \n",
    "    Function to evaluate the preformance of a model\n",
    "    \n",
    "    INPUT:\n",
    "        clf: Model object\n",
    "        X_test: Testing data matrix\n",
    "        y_test: Target vector\n",
    "        print_output: Boolean flag to indicate whether to print or not\n",
    "    \n",
    "    OUTPUT:\n",
    "        Prints out accuracy and F1-score of the model\n",
    "    \"\"\"\n",
    "    class_name = re.sub(\"[<>']\", '', str(clf.__class__))\n",
    "    class_name = class_name.split(' ')[1]\n",
    "    class_name = class_name.split('.')[-1]\n",
    "\n",
    "    y_pred_rf = clf.predict(X_test)\n",
    "\n",
    "    accuracy = accuracy_score(y_test, y_pred_rf)\n",
    "    f1Score = f1_score(y_test, y_pred_rf)\n",
    "    \n",
    "    if print_output:\n",
    "        print(\"%s model accuracy: %.3f\" % (class_name, accuracy_score(y_test, y_pred_rf)))\n",
    "        print(\"%s model f1-score: %.3f\" % (class_name, f1_score(y_test, y_pred_rf)))\n",
    "    \n",
    "    return accuracy, f1Score, y_pred_rf"
   ]
  },
  {
   "cell_type": "markdown",
   "metadata": {},
   "source": [
    "### 1. DecisionTree"
   ]
  },
  {
   "cell_type": "code",
   "execution_count": 62,
   "metadata": {},
   "outputs": [
    {
     "data": {
      "image/png": "[encoded data removed]",
      "text/plain": [
       "<Figure size 432x288 with 1 Axes>"
      ]
     },
     "metadata": {
      "needs_background": "light"
     },
     "output_type": "display_data"
    },
    {
     "data": {
      "image/png": "[encoded data removed]",
      "text/plain": [
       "<Figure size 432x288 with 1 Axes>"
      ]
     },
     "metadata": {
      "needs_background": "light"
     },
     "output_type": "display_data"
    }
   ],
   "source": [
    "# Here I'm trying training the decision tree classifier with \"entropy\", the function to measure the quality of a split.\n",
    "accuracy_trace1 = np.empty([100])\n",
    "f1_trace1 = np.empty([100])\n",
    "\n",
    "for i in range(1,101):\n",
    "\n",
    "    decisionClf1 = DecisionTreeClassifier(criterion='entropy',min_samples_leaf=i, min_samples_split=30)\n",
    "    decisionClf1.fit(X_train, y_train)\n",
    "    acc, f1, _ = evaluate_model(decisionClf1, X_test, y_test, print_output=False)\n",
    "    accuracy_trace1[i-1]= acc\n",
    "    f1_trace1[i-1]=f1\n",
    "    \n",
    "fig = plt.figure()\n",
    "fig.subplots_adjust(hspace=.5)\n",
    "\n",
    "xs = list(range(0,100))\n",
    "plt.xlabel(\"no of min sample leaves\")\n",
    "plt.ylabel('accuracy')\n",
    "plt.plot(xs, accuracy_trace1)\n",
    "plt.show()\n",
    "\n",
    "plt.xlabel('no of min sample leaves')\n",
    "plt.ylabel('f1 score')\n",
    "plt.plot(xs, f1_trace1)\n",
    "plt.show()"
   ]
  },
  {
   "cell_type": "code",
   "execution_count": 63,
   "metadata": {},
   "outputs": [
    {
     "name": "stdout",
     "output_type": "stream",
     "text": [
      "Max Accuracy 0.7822544137618832\n",
      "Max F1_score 0.6702127659574469\n",
      "[[6176 1347]\n",
      " [1075 2447]]\n",
      "              precision    recall  f1-score   support\n",
      "\n",
      "       False       0.85      0.82      0.84      7523\n",
      "        True       0.64      0.69      0.67      3522\n",
      "\n",
      "   micro avg       0.78      0.78      0.78     11045\n",
      "   macro avg       0.75      0.76      0.75     11045\n",
      "weighted avg       0.79      0.78      0.78     11045\n",
      "\n"
     ]
    }
   ],
   "source": [
    "# find the max value from accuracy_trace1 and f1_trace1\n",
    "print(\"Max Accuracy\", max(accuracy_trace1))\n",
    "print(\"Max F1_score\", max(f1_trace1))\n",
    "\n",
    "best_min_sample_val_for_model = list(accuracy_trace1).index( max(accuracy_trace1))\n",
    "best_min_sample_val_for_model1 = list(f1_trace1).index(max(f1_trace1))\n",
    "\n",
    "i = max([best_min_sample_val_for_model, best_min_sample_val_for_model1])\n",
    "\n",
    "# get the best decision tree classifier\n",
    "decisionClf1 = DecisionTreeClassifier(criterion='entropy',min_samples_leaf=i, min_samples_split=30)\n",
    "decisionClf1.fit(X_train, y_train)\n",
    "_, _, y_pred = evaluate_model(decisionClf1, X_test, y_test, print_output=False)\n",
    "\n",
    "print(confusion_matrix(y_test, y_pred))\n",
    "print(classification_report(y_test, y_pred))"
   ]
  },
  {
   "cell_type": "code",
   "execution_count": 64,
   "metadata": {},
   "outputs": [
    {
     "data": {
      "image/png": "[encoded data removed]",
      "text/plain": [
       "<Figure size 432x288 with 1 Axes>"
      ]
     },
     "metadata": {
      "needs_background": "light"
     },
     "output_type": "display_data"
    },
    {
     "data": {
      "image/png": "[encoded data removed]",
      "text/plain": [
       "<Figure size 432x288 with 1 Axes>"
      ]
     },
     "metadata": {
      "needs_background": "light"
     },
     "output_type": "display_data"
    }
   ],
   "source": [
    "# Here I'm trying training the decision tree classifier with \"gini\", the function to measure the quality of a split.\n",
    "accuracy_trace2 = np.empty([100])\n",
    "f1_trace2 = np.empty([100])\n",
    "\n",
    "for i in range(1,101):\n",
    "\n",
    "    decisionClf2 = DecisionTreeClassifier(criterion='gini',min_samples_leaf=i, min_samples_split=30)\n",
    "    decisionClf2.fit(X_train, y_train)\n",
    "    acc, f1, pred = evaluate_model(decisionClf2, X_test, y_test, print_output=False)\n",
    "    accuracy_trace2[i-1]= acc\n",
    "    f1_trace2[i-1]=f1\n",
    "    \n",
    "fig = plt.figure()\n",
    "fig.subplots_adjust(hspace=.5)\n",
    "\n",
    "xs = list(range(0,100))\n",
    "plt.xlabel(\"no of min sample leaves\")\n",
    "plt.ylabel('accuracy')\n",
    "plt.plot(xs, accuracy_trace2)\n",
    "plt.show()\n",
    "\n",
    "plt.xlabel('no of min sample leaves')\n",
    "plt.ylabel('f1 score')\n",
    "plt.plot(xs, f1_trace2)\n",
    "plt.show()"
   ]
  },
  {
   "cell_type": "code",
   "execution_count": 116,
   "metadata": {},
   "outputs": [
    {
     "name": "stdout",
     "output_type": "stream",
     "text": [
      "Max Accuracy 0.7822544137618832\n",
      "Max F1_score 0.6685044796691937\n",
      "[[6178 1345]\n",
      " [1128 2394]]\n",
      "              precision    recall  f1-score   support\n",
      "\n",
      "       False       0.85      0.82      0.83      7523\n",
      "        True       0.64      0.68      0.66      3522\n",
      "\n",
      "   micro avg       0.78      0.78      0.78     11045\n",
      "   macro avg       0.74      0.75      0.75     11045\n",
      "weighted avg       0.78      0.78      0.78     11045\n",
      "\n"
     ]
    }
   ],
   "source": [
    "# find the max value from accuracy_trace2 and f1_trace2\n",
    "print(\"Max Accuracy\", max(accuracy_trace2))\n",
    "print(\"Max F1_score\", max(f1_trace2))\n",
    "\n",
    "best_min_sample_val_for_model = list(accuracy_trace2).index( max(accuracy_trace2))\n",
    "best_min_sample_val_for_model1 = list(f1_trace2).index(max(f1_trace2))\n",
    "\n",
    "i1 = max([best_min_sample_val_for_model, best_min_sample_val_for_model1])\n",
    "\n",
    "# get the best decision tree classifier\n",
    "decisionClf1 = DecisionTreeClassifier(criterion='gini',min_samples_leaf=i1, min_samples_split=30)\n",
    "decisionClf1.fit(X_train, y_train)\n",
    "_, _, y_pred = evaluate_model(decisionClf2, X_test, y_test, print_output=False)\n",
    "\n",
    "print(confusion_matrix(y_test, y_pred))\n",
    "print(classification_report(y_test, y_pred))"
   ]
  },
  {
   "cell_type": "markdown",
   "metadata": {},
   "source": [
    "According to the results listed above, it seems that decision tree classifier is performing slightly better when using gini impurity index, to measure the quality of a split.\n",
    "\n",
    "    * Entropy:\n",
    "        -Max Accuracy 0.7793571751923948\n",
    "        -Max F1_score 0.677090234530277\n",
    "    * Gini:\n",
    "        -Max Accuracy 0.7822544137618832\n",
    "        -Max F1_score 0.6685044796691937\n",
    "        \n",
    "Hence, I will select the latter model as the best."
   ]
  },
  {
   "cell_type": "markdown",
   "metadata": {},
   "source": [
    "### 2. Support Vector Machine"
   ]
  },
  {
   "cell_type": "code",
   "execution_count": 128,
   "metadata": {},
   "outputs": [
    {
     "name": "stdout",
     "output_type": "stream",
     "text": [
      "SVC model accuracy: 0.729\n",
      "SVC model f1-score: 0.526\n"
     ]
    }
   ],
   "source": [
    "# training and evaluating a support vector machine took so long and it never gave out any results,\n",
    "# hence, according to comments on stackoverflow, I thought of normalizing data and trying it out\n",
    "\n",
    "X_train1 = preprocessing.scale(X_train)\n",
    "X_test1 = preprocessing.scale(X_test)\n",
    "\n",
    "# Need to convert boolean values to binary values\n",
    "y_train1 = y_train.apply(lambda x: x*1)\n",
    "y_test1 = y_test.apply(lambda x: x*1)\n",
    "\n",
    "# Here I'm using the linear kernel for SVM\n",
    "svmClf = SVC(kernel='linear')\n",
    "svmClf.fit(X_train1, y_train1)\n",
    "acc, f1, y_pred = evaluate_model(svmClf, X_test1, y_test1)"
   ]
  },
  {
   "cell_type": "code",
   "execution_count": 129,
   "metadata": {},
   "outputs": [
    {
     "name": "stdout",
     "output_type": "stream",
     "text": [
      "SVC model accuracy: 0.757\n",
      "SVC model f1-score: 0.563\n"
     ]
    }
   ],
   "source": [
    "# Here I'm using the polynomial kernel for SVM\n",
    "svmClf = SVC(kernel='poly', degree=8)\n",
    "svmClf.fit(X_train1, y_train1)\n",
    "acc, f1, y_pred = evaluate_model(svmClf, X_test1, y_test1)"
   ]
  },
  {
   "cell_type": "code",
   "execution_count": 130,
   "metadata": {},
   "outputs": [
    {
     "name": "stdout",
     "output_type": "stream",
     "text": [
      "SVC model accuracy: 0.778\n",
      "SVC model f1-score: 0.649\n"
     ]
    }
   ],
   "source": [
    "# Here I'm using the Gaussian kernel for SVM\n",
    "svmClf = SVC(kernel='rbf')\n",
    "svmClf.fit(X_train1, y_train1)\n",
    "acc, f1, y_pred = evaluate_model(svmClf, X_test1, y_test1)"
   ]
  },
  {
   "cell_type": "markdown",
   "metadata": {},
   "source": [
    "According to the above results, the Gaussian kernel, for SVM yielded in the best accuracy and f1_score, which is 0.778 and 0.649 respectively."
   ]
  },
  {
   "cell_type": "markdown",
   "metadata": {},
   "source": [
    "### 3. Random Forest"
   ]
  },
  {
   "cell_type": "code",
   "execution_count": 110,
   "metadata": {},
   "outputs": [
    {
     "data": {
      "image/png": "[encoded data removed]",
      "text/plain": [
       "<Figure size 432x288 with 1 Axes>"
      ]
     },
     "metadata": {
      "needs_background": "light"
     },
     "output_type": "display_data"
    },
    {
     "data": {
      "image/png": "[encoded data removed]",
      "text/plain": [
       "<Figure size 432x288 with 1 Axes>"
      ]
     },
     "metadata": {
      "needs_background": "light"
     },
     "output_type": "display_data"
    }
   ],
   "source": [
    "accuracy_trace_rf = np.empty([10])\n",
    "f1_score_trace_rf = np.empty([10])\n",
    "\n",
    "count = 0\n",
    "for k in [1,10,20,30,40,50,60,70,80,90]:\n",
    "    randFrstClf = RandomForestClassifier(min_samples_split=150, criterion='gini', n_estimators=k)\n",
    "    randFrstClf.fit(X_train, y_train)\n",
    "    acc, f1, _ = evaluate_model(randFrstClf, X_test, y_test.to_numpy().ravel(), print_output=False)\n",
    "    accuracy_trace_rf[count]= acc\n",
    "    f1_score_trace_rf[count]= f1\n",
    "    count += 1\n",
    "    \n",
    "fig = plt.figure()\n",
    "fig.subplots_adjust(hspace=.5)\n",
    "\n",
    "xs = [1,10,20,30,40,50,60,70,80,90]\n",
    "plt.xlabel(\"no of estimators\")\n",
    "plt.ylabel('accuracy')\n",
    "plt.scatter(xs, accuracy_trace_rf)\n",
    "plt.show()\n",
    "\n",
    "plt.xlabel('no of estimators')\n",
    "plt.ylabel('f1 score')\n",
    "plt.scatter(xs, f1_score_trace_rf)\n",
    "plt.show()"
   ]
  },
  {
   "cell_type": "code",
   "execution_count": 113,
   "metadata": {},
   "outputs": [
    {
     "name": "stdout",
     "output_type": "stream",
     "text": [
      "Max Accuracy 0.7872340425531915\n",
      "Max F1_score 0.673608218797723\n",
      "9\n",
      "3\n"
     ]
    }
   ],
   "source": [
    "# find the max value from accuracy_trace2 and f1_trace2\n",
    "print(\"Max Accuracy\", max(accuracy_trace_rf))\n",
    "print(\"Max F1_score\", max(f1_score_trace_rf))\n",
    "\n",
    "best_no_of_estimators_for_model = list(accuracy_trace_rf).index( max(accuracy_trace_rf))\n",
    "best_no_of_estimators_for_model1 = list(f1_score_trace_rf).index(max(f1_score_trace_rf))\n",
    "\n",
    "print(best_no_of_estimators_for_model)\n",
    "print(best_no_of_estimators_for_model1)"
   ]
  },
  {
   "cell_type": "markdown",
   "metadata": {},
   "source": [
    "Above 9 and 3 refers to indices which resulted in best accuracy and f1_score. \n",
    "\n",
    "At index 9, we have the accuracy and f1_score for 90 estimators (i.e. 90 Decision Trees in the Random Forest)\n",
    "At index 3, we have the accuracy and f1_score for 30 estimators (i.e. 30 Decision Trees in the Random Forest)\n",
    "\n",
    "Thus, we need to choose the best number of Decision Trees for the Random Forest."
   ]
  },
  {
   "cell_type": "code",
   "execution_count": 114,
   "metadata": {},
   "outputs": [
    {
     "name": "stdout",
     "output_type": "stream",
     "text": [
      "at 30 estimators -> Accuracy : 0.787143503847895  F1_score : 0.673608218797723\n",
      "at 90 estimators -> Accuracy : 0.7872340425531915  F1_score : 0.6721540178571429\n"
     ]
    }
   ],
   "source": [
    "print(\"at 30 estimators -> Accuracy :\", accuracy_trace_rf[3],\" F1_score :\", f1_score_trace_rf[3])\n",
    "print(\"at 90 estimators -> Accuracy :\", accuracy_trace_rf[9],\" F1_score :\", f1_score_trace_rf[9])"
   ]
  },
  {
   "cell_type": "markdown",
   "metadata": {},
   "source": [
    "***According to above comparison, it seems that best number of estimators (decision trees in the random forest) is 30.***"
   ]
  },
  {
   "cell_type": "markdown",
   "metadata": {},
   "source": [
    "### 4. Gradient Boosting"
   ]
  },
  {
   "cell_type": "code",
   "execution_count": 124,
   "metadata": {},
   "outputs": [
    {
     "name": "stdout",
     "output_type": "stream",
     "text": [
      "GradientBoostingClassifier model accuracy: 0.782\n",
      "GradientBoostingClassifier model f1-score: 0.671\n"
     ]
    }
   ],
   "source": [
    "gb_clf = GradientBoostingClassifier(min_samples_split=100, learning_rate=0.5, n_estimators=100)\n",
    "gb_clf.fit(X_train, y_train)\n",
    "acc, f1, pred = evaluate_model(gb_clf, X_test, y_test)"
   ]
  },
  {
   "cell_type": "markdown",
   "metadata": {},
   "source": [
    "# Conclusion\n",
    "\n",
    "For easy comparison, below I list down the accuracies and f1_scores from the best models.\n",
    "\n",
    "| Classifier       | Accuracy  | F1-score           |\n",
    "|------------------|--------------------|--------------------|\n",
    "| DecisionTree     | 0.782              | 0.669              |\n",
    "| SVM              | 0.778              | 0.649              |\n",
    "| RandomForest     | 0.787              | 0.674              |\n",
    "| GradientBoosting | 0.782              | 0.671              |\n",
    "\n",
    "According to the above table, RandomForestClassifier yields the best accuracy as well as best F1-score among the 4 classifiers. Thus, there's no debate about the best classifier. However, I believe I could have achieved better results if I tried out various parameters for all of these 4 classifiers. But due to the time constraints, I have to be contended with above results.\n",
    "\n",
    "Hence, Starbucks could use the RandomForestClassifier with min_samples_split=150, criterion='gini', n_estimators=30 model to predict whether a specific customer will accept a particular offer or not. And then decide on to whom to send out particular offers."
   ]
  },
  {
   "cell_type": "code",
   "execution_count": null,
   "metadata": {},
   "outputs": [],
   "source": []
  }
 ],
 "metadata": {
  "kernelspec": {
   "display_name": "Python 3",
   "language": "python",
   "name": "python3"
  },
  "language_info": {
   "codemirror_mode": {
    "name": "ipython",
    "version": 3
   },
   "file_extension": ".py",
   "mimetype": "text/x-python",
   "name": "python",
   "nbconvert_exporter": "python",
   "pygments_lexer": "ipython3",
   "version": "3.7.3"
  }
 },
 "nbformat": 4,
 "nbformat_minor": 2
}
